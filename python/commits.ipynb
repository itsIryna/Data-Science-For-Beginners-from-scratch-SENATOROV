{
 "cells": [
  {
   "cell_type": "code",
   "execution_count": null,
   "metadata": {},
   "outputs": [],
   "source": [
    "\"\"\"Ответы на вопросы на тему: \"Коммиты\".\"\"\""
   ]
  },
  {
   "cell_type": "markdown",
   "metadata": {},
   "source": [
    "Опишите своими словами назначение каждого из этих типов коммитов:\n",
    "feat, fix, docs, style, refactor, test, build, ci, perf, chore.\n",
    "    feat - новая фича\n",
    "    fix - фикс чего-нибудь\n",
    "    docs - изменения какие-нибудь которые связаны с документацией\n",
    "    style - изменения в стиле написания кода\n",
    "    refactor - изменения куска код (напр, убрали логику какую-то)\n",
    "    test - добавили юнит тестыб кусок кода тестируют\n",
    "    build - новый билд собрали\n",
    "    ci - интеграция с другими продуктами\n",
    "    perf - что-то связанное с производительностью\n",
    "    chore - наводят порядки в каком то модуле\n",
    "    "
   ]
  },
  {
   "cell_type": "markdown",
   "metadata": {},
   "source": [
    "Представьте, что вы исправили баг в функции, которая некорректно округляет числа. Сделайте фиктивный коммит и напишите для него сообщение в соответствии с Conventional Commits (используя тип fix).\n",
    "fix(round): correct logic in function CalCul "
   ]
  },
  {
   "cell_type": "markdown",
   "metadata": {},
   "source": [
    "Добавление новой функциональности:\n",
    "Допустим, вы реализовали новую функцию generateReport в проекте. Сделайте фиктивный коммит с типом feat, отражающий добавление этой функциональности\n",
    "feat(calculation): add new function generateReport in CalCulus module"
   ]
  },
  {
   "cell_type": "markdown",
   "metadata": {},
   "source": [
    "Модификация формата кода или стилей:\n",
    "Представьте, что вы поправили отступы и форматирование во всём проекте, не меняя логики кода. Сделайте фиктивный коммит с типом style\n",
    "style(format): apply formatting across all code"
   ]
  },
  {
   "cell_type": "markdown",
   "metadata": {},
   "source": [
    "Документация и тестирование:\n",
    "\n",
    "Сделайте фиктивный коммит с типом docs, добавляющий или улучшающий документацию для вашей новой функции.\n",
    "Сделайте фиктивный коммит с типом test, добавляющий тесты для этой же функции.\n",
    "\n",
    "docs(calculation): add new documentation to CalCul module\n",
    "test(calculation): add unit tests to CalCul module"
   ]
  }
 ],
 "metadata": {
  "language_info": {
   "name": "python"
  }
 },
 "nbformat": 4,
 "nbformat_minor": 2
}
