{
 "cells": [
  {
   "cell_type": "code",
   "execution_count": 1,
   "metadata": {},
   "outputs": [
    {
     "data": {
      "text/plain": [
       "'OOP.'"
      ]
     },
     "execution_count": 1,
     "metadata": {},
     "output_type": "execute_result"
    }
   ],
   "source": [
    "\"\"\"OOP.\"\"\""
   ]
  },
  {
   "cell_type": "code",
   "execution_count": null,
   "metadata": {},
   "outputs": [
    {
     "name": "stdout",
     "output_type": "stream",
     "text": [
      "2469937385488\n",
      "2469935299344\n"
     ]
    }
   ],
   "source": [
    "class Person:\n",
    "    \"\"\"A class representing a person with a name.\"\"\"\n",
    "\n",
    "    name = \"Ivan\"\n",
    "\n",
    "\n",
    "# print(Person.name)\n",
    "# print(Person.__name__)\n",
    "# print(dir(Person))\n",
    "\n",
    "# p_obj = Person()\n",
    "# print(p_obj.__class__)\n",
    "# print(p_obj.__class__.__name__)\n",
    "# print(type(p_obj))\n",
    "# p_obj_2 = type(p_obj)()\n",
    "# print(id(p_obj))\n",
    "# print(id(p_obj_2))"
   ]
  },
  {
   "cell_type": "code",
   "execution_count": null,
   "metadata": {},
   "outputs": [
    {
     "name": "stdout",
     "output_type": "stream",
     "text": [
      "{'__module__': '__main__', '__firstlineno__': 1, '__doc__': 'A class representing a person with a name attribute.', 'name': 'Ivan', '__static_attributes__': (), '__dict__': <attribute '__dict__' of 'Person2' objects>, '__weakref__': <attribute '__weakref__' of 'Person2' objects>, 'age': 4455, 'dob': '123'}\n",
      "{'__module__': '__main__', '__firstlineno__': 23, '__doc__': 'A class representing a person with a name and greeting method.', 'name': 'Ivan', 'hello': <function Person3.hello at 0x0000023F13BAF100>, '__static_attributes__': (), '__dict__': <attribute '__dict__' of 'Person3' objects>, '__weakref__': <attribute '__weakref__' of 'Person3' objects>}\n"
     ]
    }
   ],
   "source": [
    "class Person2:\n",
    "    \"\"\"A class representing a person with a name attribute.\"\"\"\n",
    "\n",
    "    name = \"Ivan\"\n",
    "\n",
    "\n",
    "# print(dir(Person2))\n",
    "# print(Person2.__dict__)\n",
    "\n",
    "\n",
    "# Person.__dict__['name'] = 'ffff'  # ERROR\n",
    "\n",
    "# Person2.age = 4455\n",
    "# # print(Person2.__dict__)\n",
    "\n",
    "\n",
    "# getattr(Person2, \"name\")\n",
    "# setattr(Person2, \"dob\", \"123\")\n",
    "# print(Person2.__dict__)\n",
    "# delattr(Person2, \"dob\")\n",
    "\n",
    "\n",
    "class Person3:\n",
    "    \"\"\"A class representing a person with a name and greeting method.\"\"\"\n",
    "\n",
    "    name = \"Ivan\"\n",
    "\n",
    "    def hello(self: \"Person3\") -> None:\n",
    "        \"\"\"Print a greeting message.\"\"\"\n",
    "        print(\"Hello\")\n",
    "\n",
    "\n",
    "# print(Person3.__dict__)"
   ]
  },
  {
   "cell_type": "code",
   "execution_count": null,
   "metadata": {},
   "outputs": [
    {
     "name": "stdout",
     "output_type": "stream",
     "text": [
      "{'__module__': '__main__', '__firstlineno__': 1, '__annotations__': {'name': <class 'str'>}, '__doc__': 'A class representing a person with a name attribute.', 'name': 'Ivan', '__static_attributes__': (), '__dict__': <attribute '__dict__' of 'Person4' objects>, '__weakref__': <attribute '__weakref__' of 'Person4' objects>}\n",
      "False\n",
      "Ivan\n",
      "Ivan\n",
      "2469937417024\n",
      "2469937417024\n",
      "{}\n",
      "{}\n",
      "{'name': 'Oleg'}\n",
      "{'name': 'Dima', 'age': 123}\n",
      "2469937602768\n",
      "2469937603104\n"
     ]
    }
   ],
   "source": [
    "class Person4:\n",
    "    \"\"\"A class representing a person with a name attribute.\"\"\"\n",
    "\n",
    "    name: str = \"Ivan\"  # Default name value\n",
    "\n",
    "\n",
    "# print(Person4.__dict__)\n",
    "\n",
    "# p1 = Person4()\n",
    "# p2 = Person4()\n",
    "\n",
    "# print(id(p1) == id(p2))\n",
    "\n",
    "# print(p1.name)\n",
    "# print(p2.name)\n",
    "\n",
    "# print(id(p1.name))\n",
    "# print(id(p2.name))\n",
    "\n",
    "# print(p1.__dict__)\n",
    "# print(p2.__dict__)\n",
    "\n",
    "# p1.name = \"Oleg\"\n",
    "\n",
    "# p2.name = \"Dima\"\n",
    "# p2.age = 123\n",
    "\n",
    "# print(p1.__dict__)\n",
    "# print(p2.__dict__)\n",
    "\n",
    "# print(id(p1.name))\n",
    "# print(id(p2.name))"
   ]
  },
  {
   "cell_type": "code",
   "execution_count": null,
   "metadata": {},
   "outputs": [
    {
     "name": "stdout",
     "output_type": "stream",
     "text": [
      "<function Person5.hello at 0x0000023F13BAF560>\n"
     ]
    }
   ],
   "source": [
    "class Person5:\n",
    "    \"\"\"A class representing a person with a greeting method.\"\"\"\n",
    "\n",
    "    def hello(self: \"Person5\") -> None:\n",
    "        \"\"\"Print a greeting message.\"\"\"\n",
    "        print(\"Hello\")\n",
    "\n",
    "\n",
    "# print(Person5.hello)\n",
    "\n",
    "\n",
    "# p3 = Person5()\n",
    "# print(p3.hello)\n",
    "# print(hex(id(p3)))\n",
    "\n",
    "# p3.hello()\n",
    "\n",
    "# print(dir(Person5.hello))\n",
    "# print(dir(p3.hello))\n",
    "\n",
    "# Person5.hello(p3)\n",
    "# print(p3.hello.__self__)"
   ]
  },
  {
   "cell_type": "code",
   "execution_count": null,
   "metadata": {},
   "outputs": [
    {
     "name": "stdout",
     "output_type": "stream",
     "text": [
      "Ivan\n"
     ]
    }
   ],
   "source": [
    "class Person6:\n",
    "    \"\"\"A class representing a person with create and display methods.\"\"\"\n",
    "\n",
    "    def create(self: \"Person6\") -> None:\n",
    "        \"\"\"Initialize person's name attribute.\"\"\"\n",
    "        self.name = \"Ivan\"  # pylint: disable=attribute-defined-outside-init\n",
    "\n",
    "    def display(self: \"Person6\") -> None:\n",
    "        \"\"\"Display the person's name.\"\"\"\n",
    "        print(self.name)\n",
    "\n",
    "\n",
    "# p4 = Person6()\n",
    "# p4.display()  # ERROR\n",
    "\n",
    "\n",
    "class Person7:\n",
    "    \"\"\"A class representing a person with name attribute.\"\"\"\n",
    "\n",
    "    def __init__(self: \"Person7\") -> None:\n",
    "        \"\"\"Initialize person's name attribute.\"\"\"\n",
    "        self.name = \"Ivan\"\n",
    "\n",
    "    def display(self: \"Person7\") -> None:\n",
    "        \"\"\"Display the person's name.\"\"\"\n",
    "        print(self.name)\n",
    "\n",
    "\n",
    "# p5 = Person7()\n",
    "# p5.display()"
   ]
  },
  {
   "cell_type": "code",
   "execution_count": null,
   "metadata": {},
   "outputs": [
    {
     "name": "stdout",
     "output_type": "stream",
     "text": [
      "Goodbye\n",
      "Goodbye\n",
      "2409936544256\n",
      "2409936540352\n",
      "2409936686272\n",
      "2409936686272\n"
     ]
    }
   ],
   "source": [
    "class Person8:\n",
    "    \"\"\"A class representing a person with greeting methods.\"\"\"\n",
    "\n",
    "    def hello(self: \"Person8\") -> None:\n",
    "        \"\"\"Print a hello greeting.\"\"\"\n",
    "        print(\"Hello\")\n",
    "\n",
    "    @staticmethod\n",
    "    def good_buy() -> None:\n",
    "        \"\"\"Print a goodbye message.\"\"\"\n",
    "        print(\"Goodbye\")\n",
    "\n",
    "\n",
    "# p6 = Person8()\n",
    "# p6.good_buy()\n",
    "\n",
    "# p7 = Person8()\n",
    "# p7.good_buy()\n",
    "\n",
    "# print(id(p7.hello))\n",
    "# print(id(p6.hello))\n",
    "\n",
    "# print(id(p7.good_buy))\n",
    "# print(id(p6.good_buy))"
   ]
  }
 ],
 "metadata": {
  "kernelspec": {
   "display_name": ".venv",
   "language": "python",
   "name": "python3"
  },
  "language_info": {
   "codemirror_mode": {
    "name": "ipython",
    "version": 3
   },
   "file_extension": ".py",
   "mimetype": "text/x-python",
   "name": "python",
   "nbconvert_exporter": "python",
   "pygments_lexer": "ipython3",
   "version": "3.13.2"
  }
 },
 "nbformat": 4,
 "nbformat_minor": 2
}
