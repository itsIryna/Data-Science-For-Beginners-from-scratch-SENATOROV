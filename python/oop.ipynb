{
 "cells": [
  {
   "cell_type": "code",
   "execution_count": 1,
   "metadata": {},
   "outputs": [
    {
     "data": {
      "text/plain": [
       "'OOP.'"
      ]
     },
     "execution_count": 1,
     "metadata": {},
     "output_type": "execute_result"
    }
   ],
   "source": [
    "\"\"\"OOP.\"\"\""
   ]
  },
  {
   "cell_type": "code",
   "execution_count": 2,
   "metadata": {},
   "outputs": [
    {
     "name": "stdout",
     "output_type": "stream",
     "text": [
      "Ivan\n",
      "Person\n",
      "['__class__', '__delattr__', '__dict__', '__dir__', '__doc__', '__eq__', '__firstlineno__', '__format__', '__ge__', '__getattribute__', '__getstate__', '__gt__', '__hash__', '__init__', '__init_subclass__', '__le__', '__lt__', '__module__', '__ne__', '__new__', '__reduce__', '__reduce_ex__', '__repr__', '__setattr__', '__sizeof__', '__static_attributes__', '__str__', '__subclasshook__', '__weakref__', 'name']\n",
      "<class '__main__.Person'>\n",
      "Person\n",
      "<class '__main__.Person'>\n",
      "1144486140224\n",
      "1144484051728\n"
     ]
    }
   ],
   "source": [
    "class Person:\n",
    "    \"\"\"A class representing a person with a name.\"\"\"\n",
    "\n",
    "    name = \"Ivan\"\n",
    "\n",
    "\n",
    "print(Person.name)\n",
    "print(Person.__name__)\n",
    "print(dir(Person))\n",
    "\n",
    "p_obj = Person()\n",
    "print(p_obj.__class__)\n",
    "print(p_obj.__class__.__name__)\n",
    "print(type(p_obj))\n",
    "p_obj_2 = type(p_obj)()\n",
    "print(id(p_obj))\n",
    "print(id(p_obj_2))"
   ]
  },
  {
   "cell_type": "code",
   "execution_count": 3,
   "metadata": {},
   "outputs": [
    {
     "name": "stdout",
     "output_type": "stream",
     "text": [
      "['__class__', '__delattr__', '__dict__', '__dir__', '__doc__', '__eq__', '__firstlineno__', '__format__', '__ge__', '__getattribute__', '__getstate__', '__gt__', '__hash__', '__init__', '__init_subclass__', '__le__', '__lt__', '__module__', '__ne__', '__new__', '__reduce__', '__reduce_ex__', '__repr__', '__setattr__', '__sizeof__', '__static_attributes__', '__str__', '__subclasshook__', '__weakref__', 'name']\n",
      "{'__module__': '__main__', '__firstlineno__': 1, '__doc__': 'A class representing a person with a name attribute.', 'name': 'Ivan', '__static_attributes__': (), '__dict__': <attribute '__dict__' of 'Person2' objects>, '__weakref__': <attribute '__weakref__' of 'Person2' objects>}\n",
      "{'__module__': '__main__', '__firstlineno__': 1, '__doc__': 'A class representing a person with a name attribute.', 'name': 'Ivan', '__static_attributes__': (), '__dict__': <attribute '__dict__' of 'Person2' objects>, '__weakref__': <attribute '__weakref__' of 'Person2' objects>, 'dob': '123'}\n",
      "{'__module__': '__main__', '__firstlineno__': 23, '__doc__': 'A class representing a person with a name and greeting method.', 'name': 'Ivan', 'hello': <function Person3.hello at 0x0000010A78ADEC00>, '__static_attributes__': (), '__dict__': <attribute '__dict__' of 'Person3' objects>, '__weakref__': <attribute '__weakref__' of 'Person3' objects>}\n"
     ]
    }
   ],
   "source": [
    "class Person2:\n",
    "    \"\"\"A class representing a person with a name attribute.\"\"\"\n",
    "\n",
    "    name = \"Ivan\"\n",
    "\n",
    "\n",
    "print(dir(Person2))\n",
    "print(Person2.__dict__)\n",
    "\n",
    "\n",
    "# Person.__dict__['name'] = 'ffff'  # ERROR\n",
    "\n",
    "# Person2.age = 4455\n",
    "# print(Person2.__dict__)\n",
    "\n",
    "\n",
    "getattr(Person2, \"name\")\n",
    "setattr(Person2, \"dob\", \"123\")\n",
    "print(Person2.__dict__)\n",
    "delattr(Person2, \"dob\")\n",
    "\n",
    "\n",
    "class Person3:\n",
    "    \"\"\"A class representing a person with a name and greeting method.\"\"\"\n",
    "\n",
    "    name = \"Ivan\"\n",
    "\n",
    "    def hello(self: \"Person3\") -> None:\n",
    "        \"\"\"Print a greeting message.\"\"\"\n",
    "        print(\"Hello\")\n",
    "\n",
    "\n",
    "print(Person3.__dict__)"
   ]
  },
  {
   "cell_type": "code",
   "execution_count": 4,
   "metadata": {},
   "outputs": [
    {
     "name": "stdout",
     "output_type": "stream",
     "text": [
      "{'__module__': '__main__', '__firstlineno__': 1, '__annotations__': {'name': <class 'str'>}, '__doc__': 'A class representing a person with a name attribute.', 'name': 'Ivan', '__static_attributes__': (), '__dict__': <attribute '__dict__' of 'Person4' objects>, '__weakref__': <attribute '__weakref__' of 'Person4' objects>}\n",
      "False\n",
      "Ivan\n",
      "Ivan\n",
      "1144486171328\n",
      "1144486171328\n",
      "{}\n",
      "{}\n",
      "{'name': 'Oleg'}\n",
      "{'name': 'Dima'}\n",
      "1144486178960\n",
      "1144486172096\n"
     ]
    }
   ],
   "source": [
    "class Person4:\n",
    "    \"\"\"A class representing a person with a name attribute.\"\"\"\n",
    "\n",
    "    name: str = \"Ivan\"  # Default name value\n",
    "\n",
    "\n",
    "print(Person4.__dict__)\n",
    "\n",
    "p1 = Person4()\n",
    "p2 = Person4()\n",
    "\n",
    "print(id(p1) == id(p2))\n",
    "\n",
    "print(p1.name)\n",
    "print(p2.name)\n",
    "\n",
    "print(id(p1.name))\n",
    "print(id(p2.name))\n",
    "\n",
    "print(p1.__dict__)\n",
    "print(p2.__dict__)\n",
    "\n",
    "p1.name = \"Oleg\"\n",
    "\n",
    "p2.name = \"Dima\"\n",
    "# p2.age = 123\n",
    "\n",
    "print(p1.__dict__)\n",
    "print(p2.__dict__)\n",
    "\n",
    "print(id(p1.name))\n",
    "print(id(p2.name))"
   ]
  },
  {
   "cell_type": "code",
   "execution_count": 5,
   "metadata": {},
   "outputs": [
    {
     "name": "stdout",
     "output_type": "stream",
     "text": [
      "<function Person5.hello at 0x0000010A78ADF2E0>\n",
      "<bound method Person5.hello of <__main__.Person5 object at 0x0000010A78B09A90>>\n",
      "0x10a78b09a90\n",
      "Hello\n",
      "['__annotations__', '__builtins__', '__call__', '__class__', '__closure__', '__code__', '__defaults__', '__delattr__', '__dict__', '__dir__', '__doc__', '__eq__', '__format__', '__ge__', '__get__', '__getattribute__', '__getstate__', '__globals__', '__gt__', '__hash__', '__init__', '__init_subclass__', '__kwdefaults__', '__le__', '__lt__', '__module__', '__name__', '__ne__', '__new__', '__qualname__', '__reduce__', '__reduce_ex__', '__repr__', '__setattr__', '__sizeof__', '__str__', '__subclasshook__', '__type_params__']\n",
      "['__call__', '__class__', '__delattr__', '__dir__', '__doc__', '__eq__', '__format__', '__func__', '__ge__', '__get__', '__getattribute__', '__getstate__', '__gt__', '__hash__', '__init__', '__init_subclass__', '__le__', '__lt__', '__ne__', '__new__', '__reduce__', '__reduce_ex__', '__repr__', '__self__', '__setattr__', '__sizeof__', '__str__', '__subclasshook__']\n",
      "Hello\n"
     ]
    }
   ],
   "source": [
    "class Person5:\n",
    "    \"\"\"A class representing a person with a greeting method.\"\"\"\n",
    "\n",
    "    def hello(self: \"Person5\") -> None:\n",
    "        \"\"\"Print a greeting message.\"\"\"\n",
    "        print(\"Hello\")\n",
    "\n",
    "\n",
    "print(Person5.hello)\n",
    "\n",
    "\n",
    "p3 = Person5()\n",
    "print(p3.hello)\n",
    "print(hex(id(p3)))\n",
    "\n",
    "p3.hello()\n",
    "\n",
    "print(dir(Person5.hello))\n",
    "print(dir(p3.hello))\n",
    "\n",
    "Person5.hello(p3)\n",
    "# print(p3.hello.__self__)"
   ]
  },
  {
   "cell_type": "code",
   "execution_count": 6,
   "metadata": {},
   "outputs": [
    {
     "ename": "AttributeError",
     "evalue": "'Person6' object has no attribute 'name'",
     "output_type": "error",
     "traceback": [
      "\u001b[31m---------------------------------------------------------------------------\u001b[39m",
      "\u001b[31mAttributeError\u001b[39m                            Traceback (most recent call last)",
      "\u001b[36mCell\u001b[39m\u001b[36m \u001b[39m\u001b[32mIn[6]\u001b[39m\u001b[32m, line 14\u001b[39m\n\u001b[32m     10\u001b[39m         \u001b[38;5;28mprint\u001b[39m(\u001b[38;5;28mself\u001b[39m.name)\n\u001b[32m     13\u001b[39m p4 = Person6()\n\u001b[32m---> \u001b[39m\u001b[32m14\u001b[39m \u001b[43mp4\u001b[49m\u001b[43m.\u001b[49m\u001b[43mdisplay\u001b[49m\u001b[43m(\u001b[49m\u001b[43m)\u001b[49m  \u001b[38;5;66;03m# ERROR\u001b[39;00m\n\u001b[32m     17\u001b[39m \u001b[38;5;28;01mclass\u001b[39;00m\u001b[38;5;250m \u001b[39m\u001b[34;01mPerson7\u001b[39;00m:\n\u001b[32m     18\u001b[39m \u001b[38;5;250m    \u001b[39m\u001b[33;03m\"\"\"A class representing a person with name attribute.\"\"\"\u001b[39;00m\n",
      "\u001b[36mCell\u001b[39m\u001b[36m \u001b[39m\u001b[32mIn[6]\u001b[39m\u001b[32m, line 10\u001b[39m, in \u001b[36mPerson6.display\u001b[39m\u001b[34m(self)\u001b[39m\n\u001b[32m      8\u001b[39m \u001b[38;5;28;01mdef\u001b[39;00m\u001b[38;5;250m \u001b[39m\u001b[34mdisplay\u001b[39m(\u001b[38;5;28mself\u001b[39m: \u001b[33m\"\u001b[39m\u001b[33mPerson6\u001b[39m\u001b[33m\"\u001b[39m) -> \u001b[38;5;28;01mNone\u001b[39;00m:\n\u001b[32m      9\u001b[39m \u001b[38;5;250m    \u001b[39m\u001b[33;03m\"\"\"Display the person's name.\"\"\"\u001b[39;00m\n\u001b[32m---> \u001b[39m\u001b[32m10\u001b[39m     \u001b[38;5;28mprint\u001b[39m(\u001b[38;5;28;43mself\u001b[39;49m\u001b[43m.\u001b[49m\u001b[43mname\u001b[49m)\n",
      "\u001b[31mAttributeError\u001b[39m: 'Person6' object has no attribute 'name'"
     ]
    }
   ],
   "source": [
    "class Person6:\n",
    "    \"\"\"A class representing a person with create and display methods.\"\"\"\n",
    "\n",
    "    def create(self: \"Person6\") -> None:\n",
    "        \"\"\"Initialize person's name attribute.\"\"\"\n",
    "        self.name = \"Ivan\"  # pylint: disable=attribute-defined-outside-init\n",
    "\n",
    "    def display(self: \"Person6\") -> None:\n",
    "        \"\"\"Display the person's name.\"\"\"\n",
    "        print(self.name)\n",
    "\n",
    "\n",
    "p4 = Person6()\n",
    "p4.display()  # ERROR\n",
    "\n",
    "\n",
    "class Person7:\n",
    "    \"\"\"A class representing a person with name attribute.\"\"\"\n",
    "\n",
    "    def __init__(self: \"Person7\") -> None:\n",
    "        \"\"\"Initialize person's name attribute.\"\"\"\n",
    "        self.name = \"Ivan\"\n",
    "\n",
    "    def display(self: \"Person7\") -> None:\n",
    "        \"\"\"Display the person's name.\"\"\"\n",
    "        print(self.name)\n",
    "\n",
    "\n",
    "p5 = Person7()\n",
    "p5.display()"
   ]
  },
  {
   "cell_type": "code",
   "execution_count": null,
   "metadata": {},
   "outputs": [
    {
     "name": "stdout",
     "output_type": "stream",
     "text": [
      "Goodbye\n",
      "Goodbye\n",
      "2409936544256\n",
      "2409936540352\n",
      "2409936686272\n",
      "2409936686272\n"
     ]
    }
   ],
   "source": [
    "class Person8:\n",
    "    \"\"\"A class representing a person with greeting methods.\"\"\"\n",
    "\n",
    "    def hello(self: \"Person8\") -> None:\n",
    "        \"\"\"Print a hello greeting.\"\"\"\n",
    "        print(\"Hello\")\n",
    "\n",
    "    @staticmethod\n",
    "    def good_buy() -> None:\n",
    "        \"\"\"Print a goodbye message.\"\"\"\n",
    "        print(\"Goodbye\")\n",
    "\n",
    "\n",
    "p6 = Person8()\n",
    "p6.good_buy()\n",
    "\n",
    "p7 = Person8()\n",
    "p7.good_buy()\n",
    "\n",
    "print(id(p7.hello))\n",
    "print(id(p6.hello))\n",
    "\n",
    "print(id(p7.good_buy))\n",
    "print(id(p6.good_buy))"
   ]
  }
 ],
 "metadata": {
  "kernelspec": {
   "display_name": ".venv",
   "language": "python",
   "name": "python3"
  },
  "language_info": {
   "codemirror_mode": {
    "name": "ipython",
    "version": 3
   },
   "file_extension": ".py",
   "mimetype": "text/x-python",
   "name": "python",
   "nbconvert_exporter": "python",
   "pygments_lexer": "ipython3",
   "version": "3.13.2"
  }
 },
 "nbformat": 4,
 "nbformat_minor": 2
}
