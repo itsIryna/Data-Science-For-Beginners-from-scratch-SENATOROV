{
 "cells": [
  {
   "cell_type": "markdown",
   "id": "a3e8d348",
   "metadata": {},
   "source": [
    "A\n",
    "```\n",
    "[number ** 2 for number in range(a, b + 1)]  \n",
    "```"
   ]
  },
  {
   "cell_type": "markdown",
   "id": "d3cdbac4",
   "metadata": {},
   "source": [
    "B\n",
    "```\n",
    "[[i * j for i in range(1, n + 1)] for j in range(1, n + 1)]\n",
    "```"
   ]
  },
  {
   "cell_type": "markdown",
   "id": "98141807",
   "metadata": {},
   "source": [
    "C\n",
    "```\n",
    "[len(i) for i in sentence.split(\" \")]\n",
    "```"
   ]
  },
  {
   "cell_type": "markdown",
   "id": "9857feca",
   "metadata": {},
   "source": [
    "D\n",
    "```\n",
    "{number for number in numbers if number % 2}\n",
    "```"
   ]
  },
  {
   "cell_type": "markdown",
   "id": "cab545e9",
   "metadata": {},
   "source": [
    "E\n",
    "```\n",
    "{number for number in numbers if number in [i ** 2 for i in range(1, int(max(numbers) ** 0.5 + 1))]}\n",
    "```"
   ]
  },
  {
   "cell_type": "markdown",
   "id": "d51541bb",
   "metadata": {},
   "source": [
    "F\n",
    "```\n",
    "{letter: text.lower().count(letter) for letter in text.lower() if letter.isalpha()}\n",
    "```"
   ]
  },
  {
   "cell_type": "markdown",
   "id": "b70690a9",
   "metadata": {},
   "source": [
    "G\n",
    "```\n",
    "{number: [i for i in range(1, number + 1) if not number % i] for number in numbers}\n",
    "```"
   ]
  },
  {
   "cell_type": "markdown",
   "id": "b615afdd",
   "metadata": {},
   "source": [
    "H\n",
    "```\n",
    "''.join(word[0] for word in string.split()).upper()\n",
    "```"
   ]
  },
  {
   "cell_type": "markdown",
   "id": "61a51a17",
   "metadata": {},
   "source": [
    "I\n",
    "```\n",
    "' - '.join(str(i) for i in sorted(set(numbers)))\n",
    "```"
   ]
  },
  {
   "cell_type": "markdown",
   "id": "12eaa3f7",
   "metadata": {},
   "source": [
    "J\n",
    "```\n",
    "''.join(i * j for i, j in rle)\n",
    "```"
   ]
  }
 ],
 "metadata": {
  "language_info": {
   "name": "python"
  }
 },
 "nbformat": 4,
 "nbformat_minor": 5
}
