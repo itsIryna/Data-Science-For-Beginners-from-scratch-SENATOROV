{
 "cells": [
  {
   "cell_type": "markdown",
   "id": "a3e8d348",
   "metadata": {},
   "source": [
    "A\n",
    "```\n",
    "[number ** 2 for number in range(a, b + 1)]  \n",
    "```"
   ]
  },
  {
   "cell_type": "markdown",
   "id": "d3cdbac4",
   "metadata": {},
   "source": [
    "B\n",
    "```\n",
    "[[i * j for i in range(1, n + 1)] for j in range(1, n + 1)]\n",
    "```"
   ]
  },
  {
   "cell_type": "markdown",
   "id": "98141807",
   "metadata": {},
   "source": [
    "C\n",
    "```\n",
    "[len(i) for i in sentence.split(\" \")]\n",
    "```"
   ]
  }
 ],
 "metadata": {
  "language_info": {
   "name": "python"
  }
 },
 "nbformat": 4,
 "nbformat_minor": 5
}
