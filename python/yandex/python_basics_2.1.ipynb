{
 "cells": [
  {
   "cell_type": "markdown",
   "id": "2286289a",
   "metadata": {},
   "source": [
    "#### 2.1. Ввод и вывод данных. Операции с числами, строками. Форматирование"
   ]
  },
  {
   "cell_type": "markdown",
   "id": "cba547bf",
   "metadata": {},
   "source": [
    "A. Привет, Яндекс!\n",
    "\n",
    "```python\n",
    "print(\"Привет, Яндекс!\")\n",
    "````"
   ]
  },
  {
   "cell_type": "markdown",
   "id": "e102dead",
   "metadata": {},
   "source": [
    "B. Привет, всем!\n",
    "```\n",
    "print(\"Как Вас зовут?\\nПривет!\", input())\n",
    "```"
   ]
  },
  {
   "cell_type": "markdown",
   "id": "2b9c9d03",
   "metadata": {},
   "source": [
    "C. Излишняя автоматизация\n",
    "```\n",
    "print((input() + '\\n') * 3)\n",
    "```"
   ]
  },
  {
   "cell_type": "markdown",
   "id": "24fd9426",
   "metadata": {},
   "source": [
    "D. Одно натуральное число - номинал купюры пользователя (≥100).\n",
    "\n",
    "```\n",
    "print(int(int(input()) - 2.5 * 38))\n",
    "```"
   ]
  },
  {
   "cell_type": "markdown",
   "id": "8e26788d",
   "metadata": {
    "vscode": {
     "languageId": "plaintext"
    }
   },
   "source": [
    "E. Три натуральных числа\n",
    "```\n",
    "price = int(input())\n",
    "weight = int(input())\n",
    "money = int(input())\n",
    "print(money - (price * weight))\n",
    "```"
   ]
  },
  {
   "cell_type": "markdown",
   "id": "54139b3f",
   "metadata": {},
   "source": [
    "F. Четыре строки\n",
    "```\n",
    "product = input()\n",
    "price_for_kg = int(input())\n",
    "weight = int(input())\n",
    "total = price_for_kg * weight\n",
    "money = int(input())\n",
    "change = money - total\n",
    "print(\"Чек\")\n",
    "print(f\"Черешня - {product} - {price_for_kg}руб/кг\")\n",
    "print(f\"Итого: {total}руб\")\n",
    "print(f\"Внесено: {money}руб\")\n",
    "print(f\"Сдача: {change}руб\")\n",
    "```"
   ]
  },
  {
   "cell_type": "markdown",
   "id": "53489ada",
   "metadata": {},
   "source": [
    "G. Напишите программу, которая N раз выводит строку «Купи слона!».\n",
    "```\n",
    "print(('Купи слона!' + '\\n') * int(input()))\n",
    "```"
   ]
  },
  {
   "cell_type": "markdown",
   "id": "c934d423",
   "metadata": {},
   "source": [
    "H. Я больше никогда не буду писать \"<часть наказания>\"!\n",
    "```\n",
    "number = int(input())\n",
    "punish = input()\n",
    "print((f'Я больше никогда не буду писать \"{punish}\"!\\n') * number)\n",
    "```"
   ]
  },
  {
   "cell_type": "markdown",
   "id": "f8eacb1b",
   "metadata": {},
   "source": [
    "I. Деловая колбаса\n",
    "```\n",
    "print(int(input()) * int(input()) // 2)\n",
    "```"
   ]
  },
  {
   "cell_type": "markdown",
   "id": "526d6346",
   "metadata": {},
   "source": [
    "J. Детский сад — штаны на лямках\n",
    "```\n",
    "name = input()\n",
    "number = int(input())\n",
    "group = number // 100\n",
    "number_list = number % 10\n",
    "bed_number = number // 10 % 10\n",
    "print(f\"Группа №{group}\")  \n",
    "print(f\"{number_list}. {name}\") \n",
    "print(f\"Шкафчик: {number}\") \n",
    "print(f\"Кроватка: {bed_number}\")  \n",
    "```"
   ]
  },
  {
   "cell_type": "markdown",
   "id": "43cf41a9",
   "metadata": {},
   "source": [
    "K. Автоматизация игры\n",
    "```\n",
    "n = int(input())\n",
    "first = n // 100 // 10\n",
    "second = n // 100 % 10\n",
    "third = n // 10 % 10\n",
    "fourth = n % 10\n",
    "\n",
    "print(f\"{second}{first}{fourth}{third}\")\n",
    "```"
   ]
  },
  {
   "cell_type": "markdown",
   "id": "f30ad2b6",
   "metadata": {},
   "source": [
    "L. Интересное сложение\n",
    "```\n",
    "a = int(input())\n",
    "b = int(input())\n",
    "\n",
    "h_a = a // 100\n",
    "t_a = (a // 10) % 10\n",
    "u_a = a % 10\n",
    "\n",
    "h_b = b // 100\n",
    "t_b = (b // 10) % 10\n",
    "u_b = b % 10\n",
    "\n",
    "sum_h = (h_a + h_b) % 10\n",
    "sum_t = (t_a + t_b) % 10\n",
    "sum_u = (u_a + u_b) % 10\n",
    "\n",
    "result = sum_h * 100 + sum_t * 10 + sum_u\n",
    "print(result)\n",
    "```"
   ]
  },
  {
   "cell_type": "markdown",
   "id": "976d99bb",
   "metadata": {},
   "source": [
    "M. Дед Мороз и конфеты\n",
    "```\n",
    "child = int(input())\n",
    "candy = int(input())\n",
    "\n",
    "print(f\"{candy // child}\")\n",
    "print(f\"{candy % child}\")\n",
    "```"
   ]
  },
  {
   "cell_type": "markdown",
   "id": "8e10cc9e",
   "metadata": {},
   "source": [
    "N. Шарики и ручки\n",
    "```\n",
    "red = int(input())\n",
    "green = int(input())\n",
    "blue = int(input())\n",
    "\n",
    "print((red + blue) + 1)\n",
    "```"
   ]
  },
  {
   "cell_type": "markdown",
   "id": "959b9afb",
   "metadata": {},
   "source": [
    "O. В ожидании доставки\n",
    "```\n",
    "n = int(input())\n",
    "m = int(input())\n",
    "t = int(input())\n",
    "\n",
    "current_total = n * 60 + m\n",
    "delivery_total = (current_total + t) % (24 * 60)\n",
    "hours = delivery_total // 60\n",
    "minutes = delivery_total % 60\n",
    "\n",
    "print(f\"{hours:02d}:{minutes:02d}\")\n",
    "```\n"
   ]
  },
  {
   "cell_type": "markdown",
   "id": "6f4f5a77",
   "metadata": {},
   "source": [
    "P. Доставка\n",
    "```\n",
    "a = int(input())\n",
    "b = int(input())\n",
    "c = int(input())\n",
    "result = ((a - b)**2)**0.5 / c\n",
    "print(f'{result:.2f}')  \n",
    "```"
   ]
  },
  {
   "cell_type": "markdown",
   "id": "0795b8d6",
   "metadata": {},
   "source": [
    "Q. Ошибка кассового аппарата\n",
    "```\n",
    "total = int(input())\n",
    "last_product = int(input(), 2)\n",
    "print(last_product + total)\n",
    "```"
   ]
  },
  {
   "cell_type": "markdown",
   "id": "6c2da988",
   "metadata": {},
   "source": [
    "R. Сдача 10\n",
    "```\n",
    "price = int(input(), 2)\n",
    "money = int(input())\n",
    "print(money - price)\n",
    "```"
   ]
  },
  {
   "cell_type": "markdown",
   "id": "b7ff435c",
   "metadata": {},
   "source": [
    "S. Украшение чека\n",
    "```\n",
    "check = \"Чек\"\n",
    "product = input()\n",
    "price = int(input())\n",
    "weight = int(input())\n",
    "money = int(input())\n",
    "total = price * weight\n",
    "change = money - total\n",
    "\n",
    "print(f\"Товар:{product:>29}\")\n",
    "print(f\"Цена:{weight:>10}кг *{price:>9}руб/кг\")\n",
    "print(f\"Итого:{total:>26}руб\")\n",
    "print(f\"Внесено:{money:>25}руб\")\n",
    "print(f\"Сдача:{change:>26}руб\")\n",
    "print(\"=\" * 35)\n",
    "```"
   ]
  },
  {
   "cell_type": "markdown",
   "id": "59a8bf9e",
   "metadata": {},
   "source": [
    "T. Мухи отдельно, котлеты отдельно\n",
    "```\n",
    "n = int(input())\n",
    "m = int(input())\n",
    "k1 = int(input())\n",
    "k2 = int(input())\n",
    "\n",
    "x = (n * (m - k2)) // (k1 - k2)\n",
    "y = n - x\n",
    "\n",
    "print(x, y)\n",
    "```"
   ]
  }
 ],
 "metadata": {
  "language_info": {
   "name": "python"
  }
 },
 "nbformat": 4,
 "nbformat_minor": 5
}
