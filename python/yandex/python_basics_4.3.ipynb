{
 "cells": [
  {
   "cell_type": "markdown",
   "id": "9e0557a9",
   "metadata": {},
   "source": [
    "A\n",
    "```\n",
    "def recursive_sum(*args):\n",
    "    if not args:\n",
    "        return 0\n",
    "    return args[0] + recursive_sum(*args[1:])   \n",
    "```"
   ]
  },
  {
   "cell_type": "markdown",
   "id": "056c47ed",
   "metadata": {},
   "source": [
    "B\n",
    "```\n",
    "def recursive_digit_sum(n):\n",
    "    return n % 10 + recursive_digit_sum(n // 10) if n else 0\n",
    "```"
   ]
  },
  {
   "cell_type": "markdown",
   "id": "e48fa79c",
   "metadata": {},
   "source": [
    "C\n",
    "```\n",
    "def make_equation(*args):\n",
    "    if len(args) == 1:\n",
    "        return str(args[0])\n",
    "    line = ') * x ' + ('- ' if args[-1] < 0 else '+ ') + str(args[-1])\n",
    "    return '(' + make_equation(*args[:-1]) + line\n",
    "```"
   ]
  },
  {
   "cell_type": "markdown",
   "id": "3e58f635",
   "metadata": {},
   "source": [
    "D\n",
    "```\n",
    "def answer(func):\n",
    "    def wrap(*args, **kwargs):\n",
    "        return f'Результат функции: {func(*args, **kwargs)}'\n",
    "    return wrap\n",
    "```"
   ]
  },
  {
   "cell_type": "markdown",
   "id": "3d2d54c3",
   "metadata": {},
   "source": [
    "E\n",
    "```\n",
    "def result_accumulator(func):\n",
    "    result = []\n",
    "\n",
    "    def wrap(*args, method=\"accumulate\"):\n",
    "        result.append(func(*args))\n",
    "        if method == \"drop\":\n",
    "            temp = result.copy()\n",
    "            result.clear()\n",
    "            return temp\n",
    "    return wrap\n",
    "\n",
    "```"
   ]
  },
  {
   "cell_type": "markdown",
   "id": "c0ac99e8",
   "metadata": {},
   "source": [
    "F\n",
    "```\n",
    "def merge_sort(arr):\n",
    "    n = len(arr)\n",
    "    if n <= 1:\n",
    "        return arr\n",
    "    else:\n",
    "        middle = int(len(arr) / 2)\n",
    "        left = merge_sort(arr[:middle])\n",
    "        right = merge_sort(arr[middle:])\n",
    "        return merge(left, right)\n",
    "        \n",
    "\n",
    "def merge(left, right):\n",
    "    result = []\n",
    "    while len(left) > 0 and len(right) > 0:\n",
    "        if left[0] <= right[0]:\n",
    "            result.append(left[0])\n",
    "            left = left[1:]\n",
    "        else:\n",
    "            result.append(right[0])\n",
    "            right = right[1:]\n",
    "    if len(left) > 0:\n",
    "        result += left\n",
    "    if len(right) > 0:\n",
    "        result += right\n",
    "    return result\n",
    "```"
   ]
  }
 ],
 "metadata": {
  "language_info": {
   "name": "python"
  }
 },
 "nbformat": 4,
 "nbformat_minor": 5
}
