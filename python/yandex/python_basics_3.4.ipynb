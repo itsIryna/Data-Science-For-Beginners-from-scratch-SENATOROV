{
 "cells": [
  {
   "cell_type": "markdown",
   "id": "dcaddc66",
   "metadata": {},
   "source": [
    "A\n",
    "```\n",
    "for index, word in enumerate(input().split(), start=1):\n",
    "    print(f'{index}. {word}')\n",
    "```"
   ]
  },
  {
   "cell_type": "markdown",
   "id": "e4f9859a",
   "metadata": {},
   "source": [
    "B\n",
    "```\n",
    "group_1 = input().split(\",\")\n",
    "group_2 = input().split(\",\")\n",
    "\n",
    "for person_1, person_2 in zip(group_1, group_2):\n",
    "    print(f\"{person_1.strip()} - {person_2.strip()}\")\n",
    "```"
   ]
  },
  {
   "cell_type": "markdown",
   "id": "bbb432b5",
   "metadata": {},
   "source": [
    "C\n",
    "```\n",
    "from itertools import count\n",
    "\n",
    "a, b, step = list(map(float, input().split()))\n",
    "for value in count(a, step):\n",
    "    if value <= b:\n",
    "        print(f'{value:.2f}')\n",
    "    else:\n",
    "        break\n",
    "```"
   ]
  },
  {
   "cell_type": "markdown",
   "id": "f26b606c",
   "metadata": {},
   "source": [
    "D\n",
    "```\n",
    "from itertools import accumulate\n",
    "\n",
    "for value in accumulate(map(lambda x: ' ' + x, input().split())):\n",
    "    print(value[1:])\n",
    "```"
   ]
  },
  {
   "cell_type": "markdown",
   "id": "a3469cef",
   "metadata": {
    "vscode": {
     "languageId": "plaintext"
    }
   },
   "source": [
    "E\n",
    "```\n",
    "full_prd_list = chain.from_iterable(input().split(\", \") for _ in range(3))\n",
    "\n",
    "for prd_index, prd in enumerate(sorted(full_prd_list), start=1):\n",
    "    print(f\"{prd_index}. {prd}\")\n",
    "```"
   ]
  },
  {
   "cell_type": "markdown",
   "id": "fd30a344",
   "metadata": {},
   "source": [
    "F\n",
    "```\n",
    "from itertools import product\n",
    "\n",
    "nominal = [2, 3, 4, 5, 6, 7, 8, 9, 10, 'валет', 'дама', 'король', 'туз']\n",
    "suits = ['пик', 'треф', 'бубен', 'червей']\n",
    "suits.remove(input())\n",
    "for card in product(nominal, suits):\n",
    "    print(card[0], card[1])\n",
    "```"
   ]
  },
  {
   "cell_type": "markdown",
   "id": "64b341c5",
   "metadata": {},
   "source": [
    "G\n",
    "```\n",
    "pupils: list[str] = [input() for _ in range(int(input()))]\n",
    "\n",
    "for pair in list(combinations(pupils, 2)):\n",
    "    print(f\"{pair[0]} - {pair[1]}\")\n",
    "```"
   ]
  },
  {
   "cell_type": "markdown",
   "id": "ee4a0e50",
   "metadata": {},
   "source": [
    "H\n",
    "```\n",
    "cereals = []\n",
    "for _ in range(int(input())):\n",
    "    cereals.append(input())\n",
    "amount = int(input())\n",
    "cereals *= amount // len(cereals) + 1\n",
    "for i in range(amount):\n",
    "    print(cereals[i])\n",
    "```"
   ]
  },
  {
   "cell_type": "markdown",
   "id": "6ff8a88e",
   "metadata": {},
   "source": [
    "I\n",
    "```\n",
    "from itertools import product\n",
    "\n",
    "for i in (n := range(1, int(input()) + 1)):\n",
    "    print(' '.join(map(lambda x: str(x[0] * x[1]), product(n, [i]))))\n",
    "```"
   ]
  },
  {
   "cell_type": "markdown",
   "id": "fd173812",
   "metadata": {},
   "source": [
    "J\n",
    "```\n",
    "n = int(input())\n",
    "print(\"А Б В\")\n",
    "for a in range(1, n - 1):            \n",
    "    for b in range(1, n - a):        \n",
    "        c = n - a - b                \n",
    "            print(a, b, c)\n",
    "\n",
    "```"
   ]
  },
  {
   "cell_type": "markdown",
   "id": "0cefc929",
   "metadata": {},
   "source": [
    "K\n",
    "```\n",
    "from itertools import product\n",
    "\n",
    "n, m = int(input()), int(input())\n",
    "for i in range(n):\n",
    "    line = product(range(1, m + 1), [i * m])\n",
    "    print(' '.join(map(lambda x: str(sum(x)).rjust(len(str((n - 1 - i) * m + sum(x))), ' '), line)))\n",
    "```"
   ]
  }
 ],
 "metadata": {
  "language_info": {
   "name": "python"
  }
 },
 "nbformat": 4,
 "nbformat_minor": 5
}
