{
 "cells": [
  {
   "cell_type": "markdown",
   "id": "dcaddc66",
   "metadata": {},
   "source": [
    "A\n",
    "```\n",
    "for index, word in enumerate(input().split(), start=1):\n",
    "    print(f'{index}. {word}')\n",
    "```"
   ]
  },
  {
   "cell_type": "markdown",
   "id": "e4f9859a",
   "metadata": {},
   "source": [
    "B\n",
    "```\n",
    "group_1 = input().split(\",\")\n",
    "group_2 = input().split(\",\")\n",
    "\n",
    "for person_1, person_2 in zip(group_1, group_2):\n",
    "    print(f\"{person_1.strip()} - {person_2.strip()}\")\n",
    "```"
   ]
  },
  {
   "cell_type": "markdown",
   "id": "bbb432b5",
   "metadata": {},
   "source": [
    "C\n",
    "```\n",
    "from itertools import count\n",
    "\n",
    "a, b, step = list(map(float, input().split()))\n",
    "for value in count(a, step):\n",
    "    if value <= b:\n",
    "        print(f'{value:.2f}')\n",
    "    else:\n",
    "        break\n",
    "```"
   ]
  },
  {
   "cell_type": "markdown",
   "id": "f26b606c",
   "metadata": {},
   "source": [
    "D\n",
    "```\n",
    "from itertools import accumulate\n",
    "\n",
    "for value in accumulate(map(lambda x: ' ' + x, input().split())):\n",
    "    print(value[1:])\n",
    "```"
   ]
  },
  {
   "cell_type": "markdown",
   "id": "a3469cef",
   "metadata": {
    "vscode": {
     "languageId": "plaintext"
    }
   },
   "source": [
    "E\n",
    "```\n",
    "full_prd_list = chain.from_iterable(input().split(\", \") for _ in range(3))\n",
    "\n",
    "for prd_index, prd in enumerate(sorted(full_prd_list), start=1):\n",
    "    print(f\"{prd_index}. {prd}\")\n",
    "```"
   ]
  },
  {
   "cell_type": "markdown",
   "id": "fd30a344",
   "metadata": {},
   "source": [
    "F\n",
    "```\n",
    "from itertools import product\n",
    "\n",
    "nominal = [2, 3, 4, 5, 6, 7, 8, 9, 10, 'валет', 'дама', 'король', 'туз']\n",
    "suits = ['пик', 'треф', 'бубен', 'червей']\n",
    "suits.remove(input())\n",
    "for card in product(nominal, suits):\n",
    "    print(card[0], card[1])\n",
    "```"
   ]
  },
  {
   "cell_type": "markdown",
   "id": "64b341c5",
   "metadata": {},
   "source": [
    "G\n",
    "```\n",
    "pupils: list[str] = [input() for _ in range(int(input()))]\n",
    "\n",
    "for pair in list(combinations(pupils, 2)):\n",
    "    print(f\"{pair[0]} - {pair[1]}\")\n",
    "```"
   ]
  },
  {
   "cell_type": "markdown",
   "id": "ee4a0e50",
   "metadata": {},
   "source": [
    "H\n",
    "```\n",
    "cereals = []\n",
    "for _ in range(int(input())):\n",
    "    cereals.append(input())\n",
    "amount = int(input())\n",
    "cereals *= amount // len(cereals) + 1\n",
    "for i in range(amount):\n",
    "    print(cereals[i])\n",
    "```"
   ]
  },
  {
   "cell_type": "markdown",
   "id": "6ff8a88e",
   "metadata": {},
   "source": [
    "I\n",
    "```\n",
    "from itertools import product\n",
    "\n",
    "for i in (n := range(1, int(input()) + 1)):\n",
    "    print(' '.join(map(lambda x: str(x[0] * x[1]), product(n, [i]))))\n",
    "```"
   ]
  },
  {
   "cell_type": "markdown",
   "id": "fd173812",
   "metadata": {},
   "source": [
    "J\n",
    "```\n",
    "n = int(input())\n",
    "print(\"А Б В\")\n",
    "for a in range(1, n - 1):            \n",
    "    for b in range(1, n - a):        \n",
    "        c = n - a - b                \n",
    "            print(a, b, c)\n",
    "\n",
    "```"
   ]
  },
  {
   "cell_type": "markdown",
   "id": "0cefc929",
   "metadata": {},
   "source": [
    "K\n",
    "```\n",
    "from itertools import product\n",
    "\n",
    "n, m = int(input()), int(input())\n",
    "for i in range(n):\n",
    "    line = product(range(1, m + 1), [i * m])\n",
    "    print(' '.join(map(lambda x: str(sum(x)).rjust(len(str((n - 1 - i) * m + sum(x))), ' '), line)))\n",
    "```"
   ]
  },
  {
   "cell_type": "markdown",
   "id": "b556e251",
   "metadata": {},
   "source": [
    "L\n",
    "```\n",
    "items = []\n",
    "for _ in range(int(input())):\n",
    "    items.extend([item for item in input().split(', ')])\n",
    "for i, item in enumerate(sorted(items), start=1):\n",
    "    print(f'{i}. {item}')\n",
    "    \n",
    "```"
   ]
  },
  {
   "cell_type": "markdown",
   "id": "cc5e73e6",
   "metadata": {},
   "source": [
    "M\n",
    "```\n",
    "from itertools import permutations\n",
    "\n",
    "items = []\n",
    "for _ in range(int(input())):\n",
    "    items.append(input())\n",
    "for i in sorted(permutations(items)):\n",
    "    print(', '.join(i))\n",
    "\n",
    "```"
   ]
  },
  {
   "cell_type": "markdown",
   "id": "b963c292",
   "metadata": {},
   "source": [
    "N\n",
    "```\n",
    "from itertools import permutations\n",
    "\n",
    "items = []\n",
    "for _ in range(int(input())):\n",
    "    items.append(input())\n",
    "for i in sorted(permutations(items, 3)):\n",
    "    print(', '.join(i))\n",
    "```"
   ]
  },
  {
   "cell_type": "markdown",
   "id": "962c4ee3",
   "metadata": {},
   "source": [
    "O\n",
    "```\n",
    "from itertools import permutations\n",
    "\n",
    "items = []\n",
    "for _ in range(int(input())):\n",
    "    items.extend([item for item in input().split(', ')])\n",
    "for item in sorted(permutations(items, 3)):\n",
    "    print(' '.join(item))\n",
    "```"
   ]
  },
  {
   "cell_type": "markdown",
   "id": "2a342e4a",
   "metadata": {},
   "source": [
    "P\n",
    "```\n",
    "from itertools import product, permutations\n",
    "\n",
    "suits_ro = [\"бубен\", \"пик\", \"треф\", \"червей\"]\n",
    "suit, exception = input(), input()\n",
    "best_suit = [s for s in suits_ro if s.startswith(suit[0:3])][0]\n",
    "nominal = [\"2\", \"3\", \"4\", \"5\", \"6\", \"7\", \"8\", \"9\", \"10\", \"валет\", \"дама\", \"король\", \"туз\"]\n",
    "nominal.remove(exception)\n",
    "comb = permutations(product(sorted(nominal), sorted(suits_ro)), 3)\n",
    "y = [', '.join(' '.join(j) for j in sorted(i)) for i in comb]\n",
    "triads = [i for i in y if best_suit in i][:10]\n",
    "for triad in triads:\n",
    "    print(triad)\n",
    "```"
   ]
  },
  {
   "cell_type": "markdown",
   "id": "15abe2e3",
   "metadata": {},
   "source": [
    "Q\n",
    "```\n",
    "from itertools import product, permutations\n",
    "\n",
    "suits_ro = sorted([\"бубен\", \"пик\", \"треф\", \"червей\"])\n",
    "suit, exception, situation = input(), input(), input()\n",
    "best_suit = [s for s in suits_ro if s.startswith(suit[0:3])][0]\n",
    "nominal = sorted([\"2\", \"3\", \"4\", \"5\", \"6\", \"7\", \"8\", \"9\", \"10\", \"валет\", \"дама\", \"король\", \"туз\"])\n",
    "nominal.remove(exception)\n",
    "comb = permutations(product(nominal, suits_ro), 3)\n",
    "y = sorted(set([', '.join(' '.join(j) for j in sorted(i)) for i in comb]))\n",
    "triads = [i for i in y if best_suit in i]\n",
    "for ind, triad in enumerate(triads):\n",
    "    if triad == situation:\n",
    "        print(triads[ind + 1])\n",
    "        break\n",
    "```"
   ]
  },
  {
   "cell_type": "markdown",
   "id": "a0e38d97",
   "metadata": {},
   "source": [
    "R\n",
    "```\n",
    "x = input()\n",
    "print('a b c f')\n",
    "for i in range(8):\n",
    "    values = list(bin(i)[2:].zfill(3))\n",
    "    a, b, c = map(int, values)\n",
    "    print(' '.join(values), int(eval(x)))\n",
    "```"
   ]
  },
  {
   "cell_type": "markdown",
   "id": "00a40fb8",
   "metadata": {},
   "source": [
    "S\n",
    "```\n",
    "x = input()\n",
    "args = sorted({i for i in x if i.isupper()})\n",
    "print(' '.join(args), 'F')\n",
    "for i in range(2 ** len(args)):\n",
    "    values = list(bin(i)[2:].zfill(len(args)))\n",
    "    exec(', '.join(args) + \" = map(int, values)\")\n",
    "    print(' '.join(values), int(eval(x)))\n",
    "\n",
    "```"
   ]
  },
  {
   "cell_type": "markdown",
   "id": "78590ac2",
   "metadata": {},
   "source": [
    "T\n",
    "```\n",
    "from itertools import product\n",
    "\n",
    "OPERATORS = {\n",
    "    'not': 'not',\n",
    "    'and': 'and',\n",
    "    'or': 'or',\n",
    "    '^': '!=',\n",
    "    '->': '<=',\n",
    "    '~': '==',\n",
    "}\n",
    "\n",
    "PRIORITY = {\n",
    "    'not': 0,\n",
    "    'and': 1,\n",
    "    'or': 2,\n",
    "    '^': 3,\n",
    "    '->': 4,\n",
    "    '~': 5,\n",
    "    '(': 6,\n",
    "}\n",
    "\n",
    "\n",
    "def postfix_expression(expression, variables):\n",
    "    stack, result, lst = [], [], expression.split()\n",
    "    for i in lst:\n",
    "        if i in variables:\n",
    "            result.append(i)\n",
    "        elif i == '(':\n",
    "            stack.append(i)\n",
    "        elif i == ')':\n",
    "            while stack[-1] != '(':\n",
    "                result.append(OPERATORS[stack.pop()])\n",
    "            stack.pop()\n",
    "        elif i in OPERATORS.keys():\n",
    "            while len(stack) and PRIORITY[i] >= PRIORITY[stack[-1]]:\n",
    "                result.append(OPERATORS[stack.pop()])\n",
    "            stack.append(i)\n",
    "    for _ in range(len(stack)):\n",
    "        result.append(OPERATORS[stack.pop()])\n",
    "    return result\n",
    "\n",
    "\n",
    "def result_of_expression(postfix_exp, variables):\n",
    "    stack = []\n",
    "    for i in range(len(postfix_exp)):\n",
    "        if postfix_exp[i] in variables.keys():\n",
    "            stack.append(variables[postfix_exp[i]])\n",
    "        else:\n",
    "            if postfix_exp[i] == 'not':\n",
    "                stack.append(not stack.pop())\n",
    "            else:\n",
    "                var2, var1 = stack.pop(), stack.pop()\n",
    "                stack.append(eval(f'{var1} {postfix_exp[i]} {var2}'))\n",
    "    return int(stack.pop())\n",
    "\n",
    "\n",
    "statement = input()\n",
    "var_all = sorted(set([i for i in statement if i.isupper()]))\n",
    "print(' '.join(var_all), 'F')\n",
    "table = product([0, 1], repeat=len(var_all))\n",
    "statement = statement.replace('(', '( ').replace(')', ' )')\n",
    "exp = postfix_expression(statement, var_all)\n",
    "\n",
    "for row in table:\n",
    "    res = {}\n",
    "    for k, v in zip(var_all, row):\n",
    "        res[k] = v\n",
    "    print(' '.join(str(x) for x in row), result_of_expression(exp, res))\n",
    "```"
   ]
  }
 ],
 "metadata": {
  "language_info": {
   "name": "python"
  }
 },
 "nbformat": 4,
 "nbformat_minor": 5
}
