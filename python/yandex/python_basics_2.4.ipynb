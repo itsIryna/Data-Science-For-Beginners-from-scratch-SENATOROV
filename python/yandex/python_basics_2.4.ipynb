{
 "cells": [
  {
   "cell_type": "markdown",
   "id": "bc70ee38",
   "metadata": {},
   "source": [
    "A. Таблица умножения\n",
    "```\n",
    "size = int(input())\n",
    "\n",
    "for row in range(1, size + 1):\n",
    "    for col in range(1, size + 1):\n",
    "\n",
    "        print(row * col, end=' ')\n",
    "\n",
    "    print()\n",
    "```"
   ]
  },
  {
   "cell_type": "markdown",
   "id": "06e1ab27",
   "metadata": {},
   "source": [
    "B. Не таблица умножения\n",
    "```\n",
    "size = int(input())\n",
    "\n",
    "for row in range(1, size + 1):\n",
    "    for col in range(1, size + 1):\n",
    "\n",
    "        print(f\"{col} * {row} = {row * col}\")\n",
    "```"
   ]
  },
  {
   "cell_type": "markdown",
   "id": "0442d55f",
   "metadata": {},
   "source": [
    "C. Новогоднее настроение\n",
    "```\n",
    "n = int(input())\n",
    "numbers = list(range(1, n + 1))\n",
    "row_length = 1\n",
    "i = 0\n",
    "\n",
    "while i < len(numbers):\n",
    "    print(' '.join(map(str, numbers[i:i+row_length])))\n",
    "    i += row_length\n",
    "    row_length += 1\n",
    "```"
   ]
  }
 ],
 "metadata": {
  "language_info": {
   "name": "python"
  }
 },
 "nbformat": 4,
 "nbformat_minor": 5
}
