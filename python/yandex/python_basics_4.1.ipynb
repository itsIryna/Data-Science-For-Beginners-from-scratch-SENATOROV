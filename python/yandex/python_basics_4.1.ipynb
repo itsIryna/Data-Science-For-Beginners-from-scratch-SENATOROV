{
 "cells": [
  {
   "cell_type": "markdown",
   "id": "c1cd5740",
   "metadata": {},
   "source": [
    "### Functions. Scopes. Passing parameters to functions."
   ]
  },
  {
   "cell_type": "markdown",
   "id": "ec8af2d2",
   "metadata": {},
   "source": [
    "A\n",
    "```\n",
    "def print_hello(name):\n",
    "    print(f'Hello, {name}!')   \n",
    "```"
   ]
  },
  {
   "cell_type": "markdown",
   "id": "b5b1e261",
   "metadata": {},
   "source": [
    "B\n",
    "```\n",
    "def gcd(a, b):\n",
    "    while b:\n",
    "        a, b = b, a % b\n",
    "    return a\n",
    "```"
   ]
  },
  {
   "cell_type": "markdown",
   "id": "51d5f07e",
   "metadata": {
    "vscode": {
     "languageId": "plaintext"
    }
   },
   "source": [
    "C\n",
    "```\n",
    "def number_length(number):\n",
    "    return len(str(abs(number)))\n",
    "```"
   ]
  },
  {
   "cell_type": "markdown",
   "id": "7b8308cb",
   "metadata": {},
   "source": [
    "D\n",
    "```\n",
    "def month(number, language):\n",
    "    MONTH = {\n",
    "        'en': [\n",
    "            'January', 'February', 'March',\n",
    "            'April', 'May', 'June',\n",
    "            'July', 'August', 'September',\n",
    "            'October', 'November', 'December'\n",
    "        ],\n",
    "        'ru': [\n",
    "            'Январь', 'Февраль', 'Март',\n",
    "            'Апрель', 'Май', 'Июнь',\n",
    "            'Июль', 'Август', 'Сентябрь',\n",
    "            'Октябрь', 'Ноябрь', 'Декабрь'\n",
    "        ]\n",
    "    }\n",
    "    return MONTH[language][number - 1]\n",
    "```"
   ]
  },
  {
   "cell_type": "markdown",
   "id": "fbd3815c",
   "metadata": {},
   "source": [
    "E\n",
    "```\n",
    "def split_numbers(line):\n",
    "    return tuple(map(int, line.split()))\n",
    "```"
   ]
  },
  {
   "cell_type": "markdown",
   "id": "e4f21d85",
   "metadata": {},
   "source": [
    "F\n",
    "```\n",
    "lst = []\n",
    "\n",
    "\n",
    "def modern_print(string):\n",
    "    print(string) if string not in lst else None\n",
    "    lst.append(string)\n",
    "```"
   ]
  },
  {
   "cell_type": "markdown",
   "id": "a0b031ec",
   "metadata": {},
   "source": [
    "D\n",
    "```\n",
    "def can_eat(horse, shape):\n",
    "    return abs(horse[0] - shape[0]) + abs(horse[1] - shape[1]) == 3\n",
    "```"
   ]
  },
  {
   "cell_type": "markdown",
   "id": "11fb0669",
   "metadata": {},
   "source": [
    "E\n",
    "```\n",
    "def can_eat(horse, shape):\n",
    "    return abs(horse[0] - shape[0]) + abs(horse[1] - shape[1]) == 3\n",
    "```"
   ]
  },
  {
   "cell_type": "markdown",
   "id": "8cbb925f",
   "metadata": {},
   "source": [
    "F\n",
    "```\n",
    "def is_palindrome(value):\n",
    "    str_val = str(value)\n",
    "    \n",
    "    return str_val == str_val[::-1]\n",
    "\n",
    "```"
   ]
  },
  {
   "cell_type": "markdown",
   "id": "5b7f9eb5",
   "metadata": {},
   "source": [
    "G\n",
    "```\n",
    "def is_prime(n):\n",
    "    for i in range(2, int(n**0.5) + 1):\n",
    "        if not n % i:\n",
    "            return False\n",
    "    return n != 1\n",
    "```"
   ]
  }
 ],
 "metadata": {
  "language_info": {
   "name": "python"
  }
 },
 "nbformat": 4,
 "nbformat_minor": 5
}
