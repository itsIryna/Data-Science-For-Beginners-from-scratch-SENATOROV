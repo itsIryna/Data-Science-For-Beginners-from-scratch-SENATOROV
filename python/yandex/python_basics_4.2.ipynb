{
 "cells": [
  {
   "cell_type": "markdown",
   "id": "9990b739",
   "metadata": {},
   "source": []
  },
  {
   "cell_type": "markdown",
   "id": "e52a4147",
   "metadata": {},
   "source": [
    "A\n",
    "```\n",
    "def make_list(length, value=0):\n",
    "    return [value] * length   \n",
    "```"
   ]
  },
  {
   "cell_type": "markdown",
   "id": "174976f4",
   "metadata": {},
   "source": [
    "B\n",
    "```\n",
    "def make_matrix(size, value=0):\n",
    "    if isinstance(size, int):\n",
    "        return [[value for i in range(size)] for j in range(size)]\n",
    "    else:\n",
    "        return [[value for i in range(size[0])] for j in range(size[1])]\n",
    "```"
   ]
  },
  {
   "cell_type": "markdown",
   "id": "ec53beb8",
   "metadata": {},
   "source": [
    "C\n",
    "```\n",
    "def gcd(*args):\n",
    "    a = list(args)\n",
    "    while len(a) > 1:\n",
    "        while a[1]:\n",
    "            a[0], a[1] = a[1], a[0] % a[1]\n",
    "        a.pop(1)\n",
    "    return a[0]\n",
    "```"
   ]
  },
  {
   "cell_type": "markdown",
   "id": "6a04925f",
   "metadata": {},
   "source": [
    "D\n",
    "```\n",
    "def month(number, language='ru'):\n",
    "    MONTH = {\n",
    "        'en': [\n",
    "            'January', 'February', 'March',\n",
    "            'April', 'May', 'June',\n",
    "            'July', 'August', 'September',\n",
    "            'October', 'November', 'December'\n",
    "        ],\n",
    "        'ru': [\n",
    "            'Январь', 'Февраль', 'Март',\n",
    "            'Апрель', 'Май', 'Июнь',\n",
    "            'Июль', 'Август', 'Сентябрь',\n",
    "            'Октябрь', 'Ноябрь', 'Декабрь'\n",
    "        ]\n",
    "    }\n",
    "    return MONTH[language][number - 1]\n",
    "```"
   ]
  },
  {
   "cell_type": "markdown",
   "id": "7d51a39d",
   "metadata": {},
   "source": [
    "E\n",
    "```\n",
    "def to_string(*args, **kwargs):\n",
    "    return kwargs.get(\"sep\", \" \").join([str(i) for i in args]) + kwargs.get(\"end\", \"\\n\")\n",
    "\n",
    "```"
   ]
  },
  {
   "cell_type": "markdown",
   "id": "faf2cab0",
   "metadata": {},
   "source": [
    "F\n",
    "```\n",
    "def order(*args):\n",
    "    temp = in_stock\n",
    "    GRADES = {\n",
    "        \"Эспрессо\": {\"coffee\": 1},\n",
    "        \"Капучино\": {\"coffee\": 1,\n",
    "                     \"milk\": 3},\n",
    "        \"Макиато\": {\"coffee\": 2,\n",
    "                    \"milk\": 1},\n",
    "        \"Кофе по-венски\": {\"coffee\": 1,\n",
    "                           \"cream\": 2},\n",
    "        \"Латте Макиато\": {\"coffee\": 1,\n",
    "                          \"milk\": 2,\n",
    "                          \"cream\": 1},\n",
    "        \"Кон Панна\": {\"coffee\": 1,\n",
    "                      \"cream\": 1},\n",
    "    }\n",
    "    for grade in args:\n",
    "        for ingr in GRADES[grade]:\n",
    "            if GRADES[grade].get(ingr, 0) > in_stock[ingr]:\n",
    "                break\n",
    "        else:\n",
    "            for ingr in GRADES[grade]:\n",
    "                in_stock[ingr] -= GRADES[grade][ingr]\n",
    "            return grade\n",
    "    if in_stock == temp:\n",
    "        return \"К сожалению, не можем предложить Вам напиток\"\n",
    "```"
   ]
  },
  {
   "cell_type": "markdown",
   "id": "422e2fab",
   "metadata": {},
   "source": [
    "G\n",
    "```\n",
    "numbers = tuple()\n",
    "\n",
    "\n",
    "def enter_results(*args):\n",
    "    global numbers\n",
    "    numbers += args\n",
    "\n",
    "\n",
    "def get_sum():\n",
    "    return round(sum(numbers[::2]), 2), round(sum(numbers[1::2]), 2)\n",
    "\n",
    "\n",
    "def get_average():\n",
    "    return round(2 * get_sum()[0] / len(numbers), 2), round(2 * get_sum()[1] / len(numbers), 2)\n",
    "```"
   ]
  },
  {
   "cell_type": "markdown",
   "id": "b3704123",
   "metadata": {},
   "source": [
    "H\n",
    "```\n",
    "lambda x: (len(x), x.lower())\n",
    "```"
   ]
  },
  {
   "cell_type": "markdown",
   "id": "c23fb113",
   "metadata": {},
   "source": [
    "I\n",
    "```\n",
    "lambda x: not sum(map(int, str(x))) % 2\n",
    "```"
   ]
  }
 ],
 "metadata": {
  "language_info": {
   "name": "python"
  }
 },
 "nbformat": 4,
 "nbformat_minor": 5
}
