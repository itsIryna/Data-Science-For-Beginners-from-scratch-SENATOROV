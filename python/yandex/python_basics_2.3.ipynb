{
 "cells": [
  {
   "cell_type": "markdown",
   "id": "d521d4ad",
   "metadata": {},
   "source": [
    "2.3. Циклы\n",
    "\n",
    "A. Раз, два, три! Ёлочка, гори!\n",
    "```\n",
    "child = input()\n",
    "while child:\n",
    "    if child != \"Три!\":\n",
    "        print(\"Режим ожидания...\")\n",
    "        child = input()\n",
    "\n",
    "    else:\n",
    "        print(\"Ёлочка, гори!\")\n",
    "        break\n",
    "```"
   ]
  },
  {
   "cell_type": "markdown",
   "id": "8a278db7",
   "metadata": {},
   "source": [
    "B. Зайка — 3\n",
    "```\n",
    "counter = 0\n",
    "while (x := input()) != 'Приехали!':\n",
    "    if 'зайка' in x:\n",
    "        counter += 1\n",
    "print(counter)\n",
    "```"
   ]
  },
  {
   "cell_type": "markdown",
   "id": "40c96eab",
   "metadata": {},
   "source": [
    "С.Считалочка\n",
    "```\n",
    "a, b = int(input()), int(input())\n",
    "for i in range(a, b + 1):\n",
    "    print(i, end=' ')\n",
    "```"
   ]
  },
  {
   "cell_type": "markdown",
   "id": "4937d1ba",
   "metadata": {},
   "source": [
    "D. Считалочка 2.0\n",
    "\n",
    "```\n",
    "a = int(input())\n",
    "b = int(input())\n",
    "\n",
    "if a < b:\n",
    "    print(*range(a, b + 1))\n",
    "elif a > b:\n",
    "    print(*range(a, b - 1, -1))\n",
    "else:\n",
    "    print(a)\n",
    "```"
   ]
  },
  {
   "cell_type": "markdown",
   "id": "ea8b7017",
   "metadata": {},
   "source": [
    "D. Внимание! Акция!\n",
    "```\n",
    "price = float(input())\n",
    "discount = 0\n",
    "total = []\n",
    "while price != 0:\n",
    "    if price >= 500:\n",
    "        discount = price * 0.9\n",
    "        total.append(discount)\n",
    "    elif price < 500:\n",
    "        total.append(price)\n",
    "    price = float(input())\n",
    "\n",
    "print(sum(total))\n",
    "```"
   ]
  },
  {
   "cell_type": "markdown",
   "id": "2407ada1",
   "metadata": {},
   "source": [
    "F. НОД\n",
    "```\n",
    "a = int(input())\n",
    "b = int(input())\n",
    "while b > 0:\n",
    "    a, b = b, a % b\n",
    "print(a)\n",
    "```"
   ]
  },
  {
   "cell_type": "markdown",
   "id": "e3e5be6d",
   "metadata": {},
   "source": [
    "G. НОК\n",
    "```\n",
    "a = int(input())\n",
    "b = int(input())\n",
    "multiple = a * b\n",
    "while b > 0:\n",
    "    a, b = b, a % b\n",
    "print(int(multiple / a))\n",
    "```"
   ]
  },
  {
   "cell_type": "markdown",
   "id": "d3cf1c98",
   "metadata": {},
   "source": [
    "H. Излишняя автоматизация 2.0\n",
    "```\n",
    "a = input()\n",
    "b = int(input())\n",
    "for i in range(0, b):\n",
    "    print(a)\n",
    "```"
   ]
  },
  {
   "cell_type": "markdown",
   "id": "88c87412",
   "metadata": {},
   "source": [
    "I. Факториал\n",
    "```\n",
    "result = 1\n",
    "\n",
    "for n in range(1, int(input()) + 1):\n",
    "    result *= n\n",
    "    print(n)\n",
    "print(result)\n",
    "```"
   ]
  },
  {
   "cell_type": "markdown",
   "id": "45dc9cb5",
   "metadata": {},
   "source": [
    "J. Маршрут построен\n",
    "```\n",
    "coord_1 = []\n",
    "coord_2 = []\n",
    "\n",
    "while True:\n",
    "    direction = input()\n",
    "\n",
    "    if direction == \"СТОП\": \n",
    "        break\n",
    "        n = int(input())    \n",
    "    elif direction == \"СЕВЕР\":\n",
    "        coord_1.append(n)\n",
    "    elif direction == \"ЮГ\":\n",
    "        coord_1.append(n)\n",
    "    elif direction == \"ВОСТОК\":\n",
    "        coord_2.append(n)\n",
    "    elif direction == \"ЗАПАД\":\n",
    "        coord_2.append(n)\n",
    "\n",
    "print(int(sum(coord_1)))\n",
    "print(int(sum(coord_2)))\n",
    "```"
   ]
  },
  {
   "cell_type": "markdown",
   "id": "48501511",
   "metadata": {},
   "source": [
    "K. Цифровая сумма\n",
    "```\n",
    "n = 12345\n",
    "t = 0\n",
    "\n",
    "while n > 0:\n",
    "    b = n % 10\n",
    "    t += b\n",
    "    n = n // 10\n",
    "\n",
    "\n",
    "print(t)\n",
    "```"
   ]
  },
  {
   "cell_type": "markdown",
   "id": "27ce3a77",
   "metadata": {},
   "source": [
    "L. Сильная цифра\n",
    "```\n",
    "n = int(input())\n",
    "t = 0\n",
    "\n",
    "while n > 0:\n",
    "    b = n % 10\n",
    "    if b > t:\n",
    "        t = b\n",
    "    n = n // 10\n",
    "print(t)\n",
    "```"
   ]
  },
  {
   "cell_type": "markdown",
   "id": "a5dd7bf9",
   "metadata": {},
   "source": [
    "M. Первому игроку приготовиться 2.0\n",
    "```\n",
    "first = '\\u1000'\n",
    "\n",
    "n = int(input())\n",
    "\n",
    "for _ in range(n):\n",
    "    name = input()\n",
    "    if name < first:\n",
    "        first = name\n",
    "\n",
    "print(first)\n",
    "```"
   ]
  },
  {
   "cell_type": "markdown",
   "id": "604cd969",
   "metadata": {},
   "source": [
    "N. Простая задача\n",
    "```\n",
    "n = int(input())\n",
    "count = 0\n",
    "for i in range(1, n + 1):\n",
    "    if n % i == 0:\n",
    "        count += 1\n",
    "if count > 2:\n",
    "    print(\"NO\")\n",
    "else:\n",
    "    print(\"YES\")\n",
    "```"
   ]
  },
  {
   "cell_type": "markdown",
   "id": "a65e412b",
   "metadata": {},
   "source": [
    "O. Зайка - 4\n",
    "```\n",
    "counter = 0\n",
    "for _ in range(int(input())):\n",
    "    if 'зайка' in input():\n",
    "        counter += 1\n",
    "print(counter)\n",
    "```"
   ]
  },
  {
   "cell_type": "markdown",
   "id": "cb6e5d2c",
   "metadata": {},
   "source": [
    "P. А роза упала на лапу Азора 2.0\n",
    "```\n",
    "n = int(input())      \n",
    "original = n          \n",
    "reversed_num = 0      \n",
    "# Цикл: пока в числе есть цифры\n",
    "while n > 0:\n",
    "    digit = n % 10               \n",
    "    reversed_num = reversed_num * 10 + digit  \n",
    "    n = n // 10                   \n",
    "\n",
    "\n",
    "if reversed_num == original:\n",
    "    print(\"YES\")\n",
    "else:\n",
    "    print(\"NO\")\n",
    "\n",
    "```"
   ]
  },
  {
   "cell_type": "markdown",
   "id": "5e103273",
   "metadata": {},
   "source": [
    "Q. Чётная чистота\n",
    "```\n",
    "n = int(input())\n",
    "reversed_result = 0  \n",
    "result = 0           \n",
    "\n",
    "while n > 0:\n",
    "    digit = n % 10\n",
    "    if digit % 2 != 0:  \n",
    "        reversed_result = reversed_result * 10 + digit\n",
    "    n = n // 10\n",
    "\n",
    "\n",
    "while reversed_result > 0:\n",
    "    digit = reversed_result % 10\n",
    "    result = result * 10 + digit\n",
    "    reversed_result = reversed_result // 10\n",
    "\n",
    "print(result)\n",
    "\n",
    "```"
   ]
  },
  {
   "cell_type": "markdown",
   "id": "4a9b0c83",
   "metadata": {},
   "source": [
    "R. Простая задача 2.0\n",
    "```\n",
    "n = int(input())  \n",
    "i = 2             \n",
    "result = [] \n",
    "if n < 2:\n",
    "    print(n)\n",
    "while n > 1:\n",
    "    i += 1\n",
    "    if not n % i:\n",
    "        result.append(str(i))\n",
    "        n //= i\n",
    "        i = 1\n",
    "else:\n",
    "    print(' * '.join(result))\n",
    "```"
   ]
  },
  {
   "cell_type": "markdown",
   "id": "461b1d27",
   "metadata": {},
   "source": [
    "S. Игра в «Угадайку»\n",
    "```\n",
    "low, high = 1, 1000\n",
    "attempts = 0\n",
    "\n",
    "while attempts < 10 and low <= high:\n",
    "    guess = (low + high) // 2\n",
    "    print(guess)              \n",
    "    response = input().strip()  \n",
    "\n",
    "    if response == \"Угадал!\":\n",
    "        print(\"Число отгадано\")\n",
    "        break\n",
    "    elif response == \"Больше\":\n",
    "\n",
    "        low = guess + 1\n",
    "    elif response == \"Меньше\":\n",
    "\n",
    "        high = guess - 1\n",
    "    else:\n",
    "\n",
    "        print(\"Непонятная команда, используйте: Больше, Меньше или Угадал!\")\n",
    " \n",
    "        continue\n",
    "\n",
    "    attempts += 1\n",
    "```"
   ]
  },
  {
   "cell_type": "markdown",
   "id": "92f658c9",
   "metadata": {},
   "source": [
    "Т. Хайпанём немножечко!\n",
    "```\n",
    "result, hn1 = -1, 0\n",
    "for i in range(int(input())):\n",
    "    b = int(input())\n",
    "    h, r, m = b % 256, (b // 256) % 256, b // 256 ** 2\n",
    "    t = ((m + r + hn1) * 37) % 256\n",
    "    if t != h or h > 99:\n",
    "        result = i\n",
    "        break\n",
    "    hn1 = h\n",
    "print(result)\n",
    "```"
   ]
  }
 ],
 "metadata": {
  "language_info": {
   "name": "python"
  }
 },
 "nbformat": 4,
 "nbformat_minor": 5
}
