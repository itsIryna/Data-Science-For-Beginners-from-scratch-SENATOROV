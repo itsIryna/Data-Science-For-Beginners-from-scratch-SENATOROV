{
 "cells": [
  {
   "cell_type": "markdown",
   "id": "d521d4ad",
   "metadata": {},
   "source": [
    "2.3. Циклы\n",
    "\n",
    "A. Раз, два, три! Ёлочка, гори!\n",
    "```\n",
    "child = input()\n",
    "while child:\n",
    "    if child != \"Три!\":\n",
    "        print(\"Режим ожидания...\")\n",
    "        child = input()\n",
    "\n",
    "    else:\n",
    "        print(\"Ёлочка, гори!\")\n",
    "        break\n",
    "```"
   ]
  },
  {
   "cell_type": "markdown",
   "id": "8a278db7",
   "metadata": {},
   "source": [
    "B. Зайка — 3\n",
    "```\n",
    "counter = 0\n",
    "while (x := input()) != 'Приехали!':\n",
    "    if 'зайка' in x:\n",
    "        counter += 1\n",
    "print(counter)\n",
    "```"
   ]
  },
  {
   "cell_type": "markdown",
   "id": "40c96eab",
   "metadata": {},
   "source": [
    "С.Считалочка\n",
    "```\n",
    "a, b = int(input()), int(input())\n",
    "for i in range(a, b + 1):\n",
    "    print(i, end=' ')\n",
    "```"
   ]
  },
  {
   "cell_type": "markdown",
   "id": "4937d1ba",
   "metadata": {},
   "source": [
    "D. Считалочка 2.0\n",
    "\n",
    "```\n",
    "a = int(input())\n",
    "b = int(input())\n",
    "\n",
    "if a < b:\n",
    "    print(*range(a, b + 1))\n",
    "elif a > b:\n",
    "    print(*range(a, b - 1, -1))\n",
    "else:\n",
    "    print(a)\n",
    "```"
   ]
  },
  {
   "cell_type": "markdown",
   "id": "ea8b7017",
   "metadata": {},
   "source": [
    "E. Внимание! Акция!\n",
    "```\n",
    "price = float(input())\n",
    "discount = 0\n",
    "total = []\n",
    "while price != 0:\n",
    "    if price >= 500:\n",
    "        discount = price * 0.9\n",
    "        total.append(discount)\n",
    "    elif price < 500:\n",
    "        total.append(price)\n",
    "    price = float(input())\n",
    "\n",
    "print(sum(total))\n",
    "```"
   ]
  },
  {
   "cell_type": "markdown",
   "id": "2407ada1",
   "metadata": {},
   "source": [
    "F. НОД\n",
    "```\n",
    "a = int(input())\n",
    "b = int(input())\n",
    "while b > 0:\n",
    "    a, b = b, a % b\n",
    "print(a)\n",
    "```"
   ]
  },
  {
   "cell_type": "markdown",
   "id": "e3e5be6d",
   "metadata": {},
   "source": [
    "G. НОК\n",
    "```\n",
    "a = int(input())\n",
    "b = int(input())\n",
    "multiple = a * b\n",
    "while b > 0:\n",
    "    a, b = b, a % b\n",
    "print(int(multiple / a))\n",
    "```"
   ]
  },
  {
   "cell_type": "markdown",
   "id": "d3cf1c98",
   "metadata": {},
   "source": [
    "H. Излишняя автоматизация 2.0\n",
    "```\n",
    "a = input()\n",
    "b = int(input())\n",
    "for i in range(0, b):\n",
    "    print(a)\n",
    "```"
   ]
  },
  {
   "cell_type": "markdown",
   "id": "88c87412",
   "metadata": {},
   "source": [
    "I. Факториал\n",
    "```\n",
    "result = 1\n",
    "\n",
    "for n in range(1, int(input()) + 1):\n",
    "    result *= n\n",
    "    print(n)\n",
    "print(result)\n",
    "```"
   ]
  },
  {
   "cell_type": "markdown",
   "id": "45dc9cb5",
   "metadata": {},
   "source": [
    "J. Маршрут построен\n",
    "```\n",
    "coord_1 = []\n",
    "coord_2 = []\n",
    "\n",
    "while True:\n",
    "    direction = input()\n",
    "\n",
    "    if direction == \"СТОП\": \n",
    "        break\n",
    "        n = int(input())    \n",
    "    elif direction == \"СЕВЕР\":\n",
    "        coord_1.append(n)\n",
    "    elif direction == \"ЮГ\":\n",
    "        coord_1.append(n)\n",
    "    elif direction == \"ВОСТОК\":\n",
    "        coord_2.append(n)\n",
    "    elif direction == \"ЗАПАД\":\n",
    "        coord_2.append(n)\n",
    "\n",
    "print(int(sum(coord_1)))\n",
    "print(int(sum(coord_2)))\n",
    "```"
   ]
  },
  {
   "cell_type": "markdown",
   "id": "48501511",
   "metadata": {},
   "source": [
    "K. Цифровая сумма\n",
    "```\n",
    "n = 12345\n",
    "t = 0\n",
    "\n",
    "while n > 0:\n",
    "    b = n % 10\n",
    "    t += b\n",
    "    n = n // 10\n",
    "\n",
    "\n",
    "print(t)\n",
    "```"
   ]
  },
  {
   "cell_type": "markdown",
   "id": "27ce3a77",
   "metadata": {},
   "source": [
    "L. Сильная цифра\n",
    "```\n",
    "n = int(input())\n",
    "t = 0\n",
    "\n",
    "while n > 0:\n",
    "    b = n % 10\n",
    "    if b > t:\n",
    "        t = b\n",
    "    n = n // 10\n",
    "print(t)\n",
    "```"
   ]
  },
  {
   "cell_type": "markdown",
   "id": "a5dd7bf9",
   "metadata": {},
   "source": [
    "M. Первому игроку приготовиться 2.0\n",
    "```\n",
    "\n",
    "```"
   ]
  }
 ],
 "metadata": {
  "language_info": {
   "name": "python"
  }
 },
 "nbformat": 4,
 "nbformat_minor": 5
}
