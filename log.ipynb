{
 "cells": [
  {
   "cell_type": "code",
   "execution_count": null,
   "metadata": {},
   "outputs": [],
   "source": [
    "\"\"\"Log file shows main items of the lessons learned in the course.\"\"\""
   ]
  },
  {
   "cell_type": "markdown",
   "metadata": {},
   "source": [
    "Урок 27.02.25\n",
    "\n",
    "    Изучила:\n",
    "    - Базовые команды\n",
    "    - Просмотр изменений\n",
    "    - Работа с журналом\n",
    "    - Отмена изменений\n",
    "    - Работа с файлами\n",
    "    - Работа с GitHub\n",
    "    - Дополнительные команды"
   ]
  },
  {
   "cell_type": "markdown",
   "metadata": {},
   "source": [
    "Урок 05.03.2025\n",
    "\n",
    "    Overview of Linear Regression:\n",
    "    - что такое линейная регрессия:\n",
    "        - определение и цель \n",
    "        - пример использования\n",
    "    - types:\n",
    "        простая и множественная\n",
    "    - основн понятия:\n",
    "        - переменние\n",
    "        - уравнение\n",
    "        - гипотеза\n",
    "    - шум\n",
    "    - оценка параметров модели:\n",
    "        - MSE\n",
    "        -градиентн спуск\n",
    "    - оценка качества модели\n",
    "    - проверка предположений \n",
    "    - пере- и недообучение модели\n",
    "    - регуляризация\n",
    "    - вид обучения\n",
    "        -с учителем\n",
    "        - без\n",
    "    - классификация лин. регрес\n"
   ]
  },
  {
   "cell_type": "markdown",
   "metadata": {},
   "source": [
    "Урок 12.03.2025\n",
    "\n",
    "    Нелинейные модели"
   ]
  },
  {
   "cell_type": "markdown",
   "metadata": {},
   "source": [
    "![alt text](screenshots_lessons_notes/12.03/photo_2025-03-26_22-05-02.jpg)"
   ]
  },
  {
   "cell_type": "markdown",
   "metadata": {},
   "source": [
    "![alt text](screenshots_lessons_notes/12.03/photo_2025-03-26_22-05-06.jpg)"
   ]
  },
  {
   "cell_type": "markdown",
   "metadata": {},
   "source": [
    "![alt text](screenshots_lessons_notes/12.03/photo_2025-03-26_22-05-09.jpg)"
   ]
  },
  {
   "cell_type": "markdown",
   "metadata": {},
   "source": [
    "![alt text](screenshots_lessons_notes/12.03/photo_2025-03-26_22-05-13.jpg)"
   ]
  },
  {
   "cell_type": "markdown",
   "metadata": {},
   "source": [
    "![alt text](screenshots_lessons_notes/12.03/photo_2025-03-26_22-05-17.jpg)"
   ]
  },
  {
   "cell_type": "markdown",
   "metadata": {},
   "source": [
    "![alt text](screenshots_lessons_notes/12.03/photo_2025-03-26_22-05-24.jpg)"
   ]
  },
  {
   "cell_type": "markdown",
   "metadata": {},
   "source": [
    "![alt text](screenshots_lessons_notes/12.03/photo_2025-03-26_22-05-27.jpg)"
   ]
  },
  {
   "cell_type": "markdown",
   "metadata": {},
   "source": [
    "Урок 21.03.2025\n",
    "\n",
    "    Свойства оценок коэф одномерной линейной регрессии"
   ]
  },
  {
   "cell_type": "markdown",
   "metadata": {},
   "source": [
    "![alt text](screenshots_lessons_notes/21.03.25/photo_2025-03-26_22-16-40.jpg)"
   ]
  },
  {
   "cell_type": "markdown",
   "metadata": {},
   "source": [
    "![alt text](screenshots_lessons_notes/21.03.25/photo_2025-03-26_22-16-47.jpg)"
   ]
  },
  {
   "cell_type": "markdown",
   "metadata": {},
   "source": [
    "![alt text](screenshots_lessons_notes/21.03.25/photo_2025-03-26_22-16-50.jpg)"
   ]
  },
  {
   "cell_type": "markdown",
   "metadata": {},
   "source": [
    "![alt text](screenshots_lessons_notes/21.03.25/photo_2025-03-26_22-16-57.jpg)"
   ]
  },
  {
   "cell_type": "markdown",
   "metadata": {},
   "source": [
    "28.03.2025\n",
    "\n",
    "    Методы нахождения коэф линейной регрессии"
   ]
  },
  {
   "cell_type": "markdown",
   "metadata": {},
   "source": [
    "![alt text](screenshots_lessons_notes/28.03.2025/photo_2025-03-31_15-55-27.jpg)"
   ]
  },
  {
   "cell_type": "markdown",
   "metadata": {},
   "source": [
    "![alt text](screenshots_lessons_notes/28.03.2025/photo_2025-03-31_15-55-31.jpg)"
   ]
  },
  {
   "cell_type": "markdown",
   "metadata": {},
   "source": [
    "![alt text](screenshots_lessons_notes/28.03.2025/photo_2025-03-31_15-55-33.jpg)"
   ]
  },
  {
   "cell_type": "markdown",
   "metadata": {},
   "source": [
    "02.04.2025\n",
    "\n",
    "    Функция потерь, производная"
   ]
  },
  {
   "cell_type": "markdown",
   "metadata": {},
   "source": [
    "![alt text](screenshots_lessons_notes/28.03.2025/photo_2025-03-31_15-55-35.jpg)"
   ]
  },
  {
   "cell_type": "markdown",
   "metadata": {},
   "source": [
    "![alt text](screenshots_lessons_notes/02.04.25/photo_2025-04-09_12-34-34.jpg)"
   ]
  },
  {
   "cell_type": "markdown",
   "metadata": {},
   "source": [
    "![alt text](screenshots_lessons_notes/02.04.25/photo_2025-04-09_12-34-37.jpg)"
   ]
  },
  {
   "cell_type": "markdown",
   "metadata": {},
   "source": [
    "09.04.25\n",
    "\n",
    "    Дифферинцирование одной или нескольких переменных"
   ]
  },
  {
   "cell_type": "markdown",
   "metadata": {},
   "source": [
    "![alt text](screenshots_lessons_notes/09.04.2025/photo_2025-04-14_22-04-19.jpg)"
   ]
  },
  {
   "cell_type": "markdown",
   "metadata": {},
   "source": [
    "![alt text](screenshots_lessons_notes/09.04.2025/photo_2025-04-14_22-04-25.jpg)"
   ]
  },
  {
   "cell_type": "markdown",
   "metadata": {},
   "source": [
    "![alt text](screenshots_lessons_notes/09.04.2025/photo_2025-04-14_22-09-48.jpg)"
   ]
  },
  {
   "cell_type": "markdown",
   "metadata": {},
   "source": [
    "![alt text](screenshots_lessons_notes/09.04.2025/photo_2025-04-14_22-04-28.jpg)"
   ]
  },
  {
   "cell_type": "markdown",
   "metadata": {},
   "source": [
    "![alt text](screenshots_lessons_notes/09.04.2025/photo_2025-04-14_22-04-23.jpg)"
   ]
  },
  {
   "cell_type": "markdown",
   "metadata": {},
   "source": [
    "### 16.04 Частные производные\n",
    "\n",
    "![alt text](screenshots_lessons_notes/16.04.25/photo_2025-04-24_19-01-22.jpg)"
   ]
  },
  {
   "cell_type": "markdown",
   "metadata": {},
   "source": [
    "### 23.04 Производная по направлению\n",
    "\n",
    "![alt text](screenshots_lessons_notes/23.04.25/IMG_4960.jpg)"
   ]
  },
  {
   "cell_type": "markdown",
   "metadata": {},
   "source": [
    "### 07.04 Повторение. Мат.анализ. Градиентный спуск\n"
   ]
  },
  {
   "cell_type": "markdown",
   "metadata": {},
   "source": [
    "![alt text](screenshots_lessons_notes/07.04.25/photo_2025-05-13_12-58-58.jpg)"
   ]
  },
  {
   "cell_type": "markdown",
   "metadata": {},
   "source": [
    "### 14.05 Повторение"
   ]
  },
  {
   "cell_type": "markdown",
   "metadata": {},
   "source": [
    "![alt text](screenshots_lessons_notes/14.05/photo_2025-05-20_15-11-22.jpg)\n",
    "![alt text](screenshots_lessons_notes/14.05/photo_2025-05-20_15-11-30.jpg)"
   ]
  },
  {
   "cell_type": "markdown",
   "metadata": {},
   "source": [
    "![alt text](screenshots_lessons_notes/14.05/photo_2025-05-20_15-11-25.jpg)\n",
    "![alt text](screenshots_lessons_notes/14.05/photo_2025-05-20_15-11-36.jpg)\n",
    "![alt text](screenshots_lessons_notes/14.05/photo_2025-05-20_15-11-28.jpg)\n",
    "![alt text](screenshots_lessons_notes/14.05/photo_2025-05-20_15-11-33.jpg)\n",
    "![alt text](screenshots_lessons_notes/14.05/photo_2025-05-20_15-11-39.jpg)\n"
   ]
  },
  {
   "cell_type": "markdown",
   "metadata": {},
   "source": [
    "### 21.05 Types of data sets\n",
    "\n",
    "- train data has 75% of data\n",
    "- test data has 25% \n",
    "- градиентный спуск -это численный метод\n",
    "- SSE - sum square error\n",
    "- MSE - min sum \n",
    "- MSE получаем из SSE\n",
    "- SSE число большое и нужно его усреднить\n",
    "- матрица признаков, матрица таргетов\n",
    "- разные размерности в матрицах"
   ]
  },
  {
   "cell_type": "markdown",
   "metadata": {},
   "source": [
    "### 28.05 Разбор формулы\n",
    "\n",
    "- чат gpt выдает информацию на основании парсинга данных\n",
    "- numpy.shape (метод return a shape of an array, возвращает кортеж чисел (row, column))\n",
    "- dimension - размерность \n",
    "- data set состоит из матрицы признаков(х) и матрицы откликов(у)\n",
    "- w - это скаляр в одномерной регрессии\n",
    "- по умолчанию работаем с вектором столбцом\n",
    "- [] - 1D, [[]] - 2D\n",
    "- одна колонка - это вектор столбец\n",
    "- одна строка - это вектор строка\n",
    "- квадратная матрица = строки совпадают со столбцами пример: 3х3\n"
   ]
  },
  {
   "cell_type": "markdown",
   "metadata": {},
   "source": [
    "### Review \"Essential Math for Data Science\" 11.06\n",
    "- Regression Is Machine Learning?\n",
    "- A Basic Linear Regression\n",
    "- Fitting a line through our data\n",
    "- Sampling Bias\n",
    "- esiduals and Squared Errors"
   ]
  },
  {
   "cell_type": "markdown",
   "metadata": {},
   "source": [
    "### Review \"Essential Math for Data Science\" 13.06\n",
    "- Calculating the residuals for a given line and data\n",
    "- Why Not Absolute Values?\n",
    "- Closed Form Equation"
   ]
  },
  {
   "cell_type": "markdown",
   "metadata": {},
   "source": [
    "### 18.06 Поиск коэффициентов m, b\n",
    "- через раскладование теории рядов\n",
    "- через метод Крамера"
   ]
  },
  {
   "cell_type": "markdown",
   "metadata": {},
   "source": [
    "## 27.06 Inverse Matrix techniques\n",
    "- using inverse and transposed matrices to fit a linear regression\n",
    "- inv function in python means normal equation\n",
    "- flatten, vstack\n",
    "- add a column with value 1"
   ]
  },
  {
   "cell_type": "markdown",
   "metadata": {},
   "source": [
    "### 04.07 Inverse Matrix techniques, continue\n",
    "- finding determinant of matrice\n",
    "- finding minors\n",
    "- finding Agj"
   ]
  }
 ],
 "metadata": {
  "kernelspec": {
   "display_name": "base",
   "language": "python",
   "name": "python3"
  },
  "language_info": {
   "name": "python",
   "version": "3.12.7"
  }
 },
 "nbformat": 4,
 "nbformat_minor": 2
}
