{
 "cells": [
  {
   "cell_type": "code",
   "execution_count": null,
   "metadata": {},
   "outputs": [],
   "source": [
    "\"\"\"Ответы на вопросы по стеш\"\"\""
   ]
  },
  {
   "cell_type": "markdown",
   "metadata": {},
   "source": [
    "Что делает команда git stash?\n",
    "Сохраняет временные изменения в буфер обмена"
   ]
  },
  {
   "cell_type": "markdown",
   "metadata": {},
   "source": [
    "Как просмотреть список всех сохранённых изменений (стэшей)?\n",
    "View stash"
   ]
  },
  {
   "cell_type": "markdown",
   "metadata": {},
   "source": [
    "Какая команда применяется для использования верхнего стэша? \n",
    "Pop Latest stash"
   ]
  },
  {
   "cell_type": "markdown",
   "metadata": {
    "notebookRunGroups": {
     "groupValue": "1"
    }
   },
   "source": [
    "Как применить конкретный стэш по его номеру?\n",
    "View stash >> choose stash number\n"
   ]
  },
  {
   "cell_type": "markdown",
   "metadata": {},
   "source": [
    "Чем отличается команда git stash apply от git stash pop?\n",
    "git stash pop удаляет изменения из хранилища и повторно применяет их в рабочей копии, а git stash apply только повторно применяет изменения в рабочей копии, не удаляя их из хранилища"
   ]
  },
  {
   "cell_type": "markdown",
   "metadata": {},
   "source": [
    "Что делает команда git stash drop?\n",
    "удаляет стеш"
   ]
  },
  {
   "cell_type": "markdown",
   "metadata": {},
   "source": [
    "Как полностью очистить все сохранённые стэши?\n",
    "Drop all stashes"
   ]
  },
  {
   "cell_type": "markdown",
   "metadata": {},
   "source": [
    "В каких случаях удобно использовать git stash?\n",
    "если нет нужных команд в меню"
   ]
  },
  {
   "cell_type": "markdown",
   "metadata": {},
   "source": [
    "Что произойдёт, если выполнить git stash pop, но в проекте есть конфликтующие изменения?\n",
    "ошибка, нужно закомитить или застешить изменения"
   ]
  },
  {
   "cell_type": "markdown",
   "metadata": {},
   "source": [
    "Можно ли восстановить удалённый стэш после выполнения git stash drop?\n",
    "можно но сложно"
   ]
  },
  {
   "cell_type": "markdown",
   "metadata": {},
   "source": [
    "Что делает команда git stash save \"NAME_STASH\"\n",
    "сохраняет стеш с названием \"NAME_STASH\""
   ]
  },
  {
   "cell_type": "markdown",
   "metadata": {},
   "source": [
    "Что делает команда git stash apply \"NUMBER_STASH\"\n",
    "восстанавливает стеш \"NUMBER_STASH\" и не удаляет его из списка стешей"
   ]
  },
  {
   "cell_type": "markdown",
   "metadata": {},
   "source": [
    "Что делает команда git stash pop \"NUMBER_STASH\"\n",
    "восстанавливает стеш \"NUMBER_STASH\" и удаляет его из списка стешей"
   ]
  },
  {
   "cell_type": "markdown",
   "metadata": {},
   "source": [
    "Сохраните текущие изменения в стэш под названием \"SENATOROV ver1\", вставьте скриншот из терминала\n",
    "![alt text](screeshots/1.png)"
   ]
  },
  {
   "cell_type": "markdown",
   "metadata": {},
   "source": [
    "Внесите любые изменения в ваш репозиторий и сохраните второй стэш под именем \"SENATOROV ver2\""
   ]
  },
  {
   "cell_type": "markdown",
   "metadata": {},
   "source": [
    "Восстановите ваш стэш \"SENATOROV ver1\", вставьте скриншот из терминала\n",
    "![alt text](screeshots/2.png)"
   ]
  },
  {
   "cell_type": "markdown",
   "metadata": {},
   "source": [
    "Удалите все стеши из истории, вставьте скриншот из терминала\n",
    "![alt text](screeshots/3.png)"
   ]
  },
  {
   "cell_type": "markdown",
   "metadata": {},
   "source": [
    "[def]: D:\\Data-Science-For-Beginners-from-scratch-SENATOROV-main\\git\\screeshots\\1.png"
   ]
  }
 ],
 "metadata": {
  "language_info": {
   "name": "python"
  }
 },
 "nbformat": 4,
 "nbformat_minor": 2
}
